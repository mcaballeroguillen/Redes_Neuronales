{
 "cells": [
  {
   "cell_type": "code",
   "execution_count": 47,
   "metadata": {
    "collapsed": true
   },
   "outputs": [],
   "source": [
    "from random import random, randrange \n",
    "class Genetic_Algoritmo:\n",
    "    def __init__(self):\n",
    "        self.Mutation_Rate=0.01\n",
    "        self.Genes=0\n",
    "        self.Population=[]\n",
    "        self.Evaluation=[]\n",
    "        self.Generador=None\n",
    "        self.Fitness=None\n",
    "        self.Selecction=[]\n",
    "    \n",
    "    def genera_popinicial(self, num):\n",
    "        for x in range(num):\n",
    "            indiv=[]\n",
    "            for w in range(self.Genes):\n",
    "                indiv.append(self.Generador())\n",
    "            self.Population.append(indiv)\n",
    "    \n",
    "    def Evaluate(self):\n",
    "        self.Evaluation=[]\n",
    "        for x in range(len(self.Population)):\n",
    "            self.Evaluation.append(self.Fitness(self.Population[x]))\n",
    "    \n",
    "    def Tournament_selection(self,k):\n",
    "        ind=-1;\n",
    "        for x in range(k):\n",
    "            r= randrange(len(self.Population)) \n",
    "            if(ind==-1 or self.Evaluation[r]>self.Evaluation[ind]):\n",
    "                ind=r\n",
    "        self.Selecction.append(self.Population[ind])\n",
    "        \n",
    "    def Reproduction(self):\n",
    "        largo=len(self.Population)\n",
    "        newPop=[]\n",
    "        self.Selecction=[]\n",
    "        for x in range(2*largo):\n",
    "            self.Tournament_selection(5)\n",
    "        for x in range(largo):\n",
    "            newindv=[]\n",
    "            indiv1= self.Selecction[x]\n",
    "            indiv2= self.Selecction[x+largo]\n",
    "            point_mixing= randrange(self.Genes)\n",
    "            for x in range(self.Genes):\n",
    "                if(x>point_mixing):\n",
    "                    newindv.append(indiv2[x])\n",
    "                else:\n",
    "                    newindv.append(indiv1[x])\n",
    "            i=0\n",
    "            for gen in newindv:\n",
    "                rand= random()\n",
    "                if rand<self.Mutation_Rate:\n",
    "                    newgen=self.Generador()\n",
    "                    newindv[i]=newgen\n",
    "                i=i+1\n",
    "            newPop.append(newindv)\n",
    "        self.Population=newPop"
   ]
  },
  {
   "cell_type": "code",
   "execution_count": 48,
   "metadata": {},
   "outputs": [
    {
     "data": {
      "text/plain": [
       "(array([ 3.,  0.,  0.,  3.,  0.,  0.,  2.,  0.,  0.,  2.]),\n",
       " array([ 1. ,  1.3,  1.6,  1.9,  2.2,  2.5,  2.8,  3.1,  3.4,  3.7,  4. ]),\n",
       " <a list of 10 Patch objects>)"
      ]
     },
     "execution_count": 48,
     "metadata": {},
     "output_type": "execute_result"
    },
    {
     "data": {
      "image/png": "[encoded data removed]",
      "text/plain": [
       "<matplotlib.figure.Figure at 0x7fae5488e7f0>"
      ]
     },
     "metadata": {},
     "output_type": "display_data"
    }
   ],
   "source": [
    "import matplotlib.pyplot as plt\n",
    "from random import randrange, choice\n",
    "def Evalu(indiv):\n",
    "    evalu=0\n",
    "    numsecret=[1,0,1,1,0]\n",
    "    for x in range(5):\n",
    "        if (numsecret[x]==indiv[x]):\n",
    "            evalu=evalu+1\n",
    "    return evalu\n",
    "def Generardor():\n",
    "    return choice([0,1])\n",
    "\n",
    "Genetic1 = Genetic_Algoritmo()\n",
    "Genetic1.Fitness=Evalu\n",
    "Genetic1.Generador=Generardor\n",
    "Genetic1.Genes=5\n",
    "Genetic1.genera_popinicial(10)\n",
    "Genetic1.Evaluate()\n",
    "plt.ion() \n",
    "plt.hist(Genetic1.Evaluation)\n",
    "\n",
    "\n",
    "\n",
    "\n",
    "\n"
   ]
  },
  {
   "cell_type": "code",
   "execution_count": 49,
   "metadata": {},
   "outputs": [
    {
     "data": {
      "text/plain": [
       "(array([ 1.,  0.,  0.,  0.,  0.,  5.,  0.,  0.,  0.,  4.]),\n",
       " array([ 2. ,  2.2,  2.4,  2.6,  2.8,  3. ,  3.2,  3.4,  3.6,  3.8,  4. ]),\n",
       " <a list of 10 Patch objects>)"
      ]
     },
     "execution_count": 49,
     "metadata": {},
     "output_type": "execute_result"
    },
    {
     "data": {
      "image/png": "[encoded data removed]",
      "text/plain": [
       "<matplotlib.figure.Figure at 0x7fae548fb898>"
      ]
     },
     "metadata": {},
     "output_type": "display_data"
    }
   ],
   "source": [
    "Genetic1.Reproduction()\n",
    "Genetic1.Evaluate()\n",
    "plt.hist(Genetic1.Evaluation)"
   ]
  },
  {
   "cell_type": "code",
   "execution_count": 50,
   "metadata": {},
   "outputs": [
    {
     "data": {
      "text/plain": [
       "(array([ 1.,  0.,  0.,  0.,  0.,  7.,  0.,  0.,  0.,  2.]),\n",
       " array([ 3. ,  3.2,  3.4,  3.6,  3.8,  4. ,  4.2,  4.4,  4.6,  4.8,  5. ]),\n",
       " <a list of 10 Patch objects>)"
      ]
     },
     "execution_count": 50,
     "metadata": {},
     "output_type": "execute_result"
    },
    {
     "data": {
      "image/png": "[encoded data removed]",
      "text/plain": [
       "<matplotlib.figure.Figure at 0x7fae548fb198>"
      ]
     },
     "metadata": {},
     "output_type": "display_data"
    }
   ],
   "source": [
    "Genetic1.Reproduction()\n",
    "Genetic1.Evaluate()\n",
    "plt.hist(Genetic1.Evaluation)"
   ]
  },
  {
   "cell_type": "code",
   "execution_count": 51,
   "metadata": {},
   "outputs": [
    {
     "data": {
      "text/plain": [
       "(array([ 1.,  0.,  0.,  0.,  0.,  0.,  0.,  0.,  0.,  9.]),\n",
       " array([ 4. ,  4.1,  4.2,  4.3,  4.4,  4.5,  4.6,  4.7,  4.8,  4.9,  5. ]),\n",
       " <a list of 10 Patch objects>)"
      ]
     },
     "execution_count": 51,
     "metadata": {},
     "output_type": "execute_result"
    },
    {
     "data": {
      "image/png": "[encoded data removed]",
      "text/plain": [
       "<matplotlib.figure.Figure at 0x7fae546c2e48>"
      ]
     },
     "metadata": {},
     "output_type": "display_data"
    }
   ],
   "source": [
    "Genetic1.Reproduction()\n",
    "Genetic1.Evaluate()\n",
    "plt.hist(Genetic1.Evaluation)"
   ]
  },
  {
   "cell_type": "code",
   "execution_count": 52,
   "metadata": {},
   "outputs": [
    {
     "data": {
      "text/plain": [
       "(array([  0.,   0.,   0.,   0.,   0.,  10.,   0.,   0.,   0.,   0.]),\n",
       " array([ 4.5,  4.6,  4.7,  4.8,  4.9,  5. ,  5.1,  5.2,  5.3,  5.4,  5.5]),\n",
       " <a list of 10 Patch objects>)"
      ]
     },
     "execution_count": 52,
     "metadata": {},
     "output_type": "execute_result"
    },
    {
     "data": {
      "image/png": "[encoded data removed]",
      "text/plain": [
       "<matplotlib.figure.Figure at 0x7fae549ba128>"
      ]
     },
     "metadata": {},
     "output_type": "display_data"
    }
   ],
   "source": [
    "Genetic1.Reproduction()\n",
    "Genetic1.Evaluate()\n",
    "plt.hist(Genetic1.Evaluation)"
   ]
  },
  {
   "cell_type": "code",
   "execution_count": 53,
   "metadata": {},
   "outputs": [
    {
     "data": {
      "text/plain": [
       "(array([  0.,   0.,   0.,   0.,   0.,  10.,   0.,   0.,   0.,   0.]),\n",
       " array([ 4.5,  4.6,  4.7,  4.8,  4.9,  5. ,  5.1,  5.2,  5.3,  5.4,  5.5]),\n",
       " <a list of 10 Patch objects>)"
      ]
     },
     "execution_count": 53,
     "metadata": {},
     "output_type": "execute_result"
    },
    {
     "data": {
      "image/png": "[encoded data removed]",
      "text/plain": [
       "<matplotlib.figure.Figure at 0x7fae544e4e10>"
      ]
     },
     "metadata": {},
     "output_type": "display_data"
    }
   ],
   "source": [
    "for x in range(10):\n",
    "    Genetic1.Reproduction()\n",
    "    Genetic1.Evaluate()\n",
    "plt.hist(Genetic1.Evaluation)"
   ]
  },
  {
   "cell_type": "code",
   "execution_count": null,
   "metadata": {
    "collapsed": true
   },
   "outputs": [],
   "source": []
  }
 ],
 "metadata": {
  "kernelspec": {
   "display_name": "Python 3",
   "language": "python",
   "name": "python3"
  },
  "language_info": {
   "codemirror_mode": {
    "name": "ipython",
    "version": 3
   },
   "file_extension": ".py",
   "mimetype": "text/x-python",
   "name": "python",
   "nbconvert_exporter": "python",
   "pygments_lexer": "ipython3",
   "version": "3.6.1"
  }
 },
 "nbformat": 4,
 "nbformat_minor": 2
}
