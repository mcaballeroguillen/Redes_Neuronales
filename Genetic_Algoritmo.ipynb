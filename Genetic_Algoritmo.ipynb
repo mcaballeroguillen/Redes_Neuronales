{
 "cells": [
  {
   "cell_type": "code",
   "execution_count": 1,
   "metadata": {
    "collapsed": true
   },
   "outputs": [],
   "source": [
    "from random import random, randrange \n",
    "class Genetic_Algoritmo:\n",
    "    def __init__(self):\n",
    "        self.Mutation_Rate=0.01\n",
    "        self.Genes=0\n",
    "        self.Population=[]\n",
    "        self.Evaluation=[]\n",
    "        self.Generador=None\n",
    "        self.Fitness=None\n",
    "        self.Selecction=[]\n",
    "    \n",
    "    def genera_popinicial(self, num):\n",
    "        for x in range(num):\n",
    "            indiv=[]\n",
    "            for w in range(self.Genes):\n",
    "                indiv.append(self.Generador())\n",
    "            self.Population.append(indiv)\n",
    "    \n",
    "    def Evaluate(self):\n",
    "        self.Evaluation=[]\n",
    "        for x in range(len(self.Population)):\n",
    "            self.Evaluation.append(self.Fitness(self.Population[x]))\n",
    "    \n",
    "    def Tournament_selection(self,k):\n",
    "        ind=-1;\n",
    "        for x in range(k):\n",
    "            r= randrange(len(self.Population)) \n",
    "            if(ind==-1 or self.Evaluation[r]>self.Evaluation[ind]):\n",
    "                ind=r\n",
    "        self.Selecction.append(self.Population[ind])\n",
    "        \n",
    "    def Reproduction(self):\n",
    "        largo=len(self.Population)\n",
    "        newPop=[]\n",
    "        self.Selecction=[]\n",
    "        for x in range(2*largo):\n",
    "            self.Tournament_selection(5)\n",
    "        for x in range(largo):\n",
    "            newindv=[]\n",
    "            indiv1= self.Selecction[x]\n",
    "            indiv2= self.Selecction[x+largo]\n",
    "            point_mixing= randrange(self.Genes)\n",
    "            for x in range(self.Genes):\n",
    "                if(x>point_mixing):\n",
    "                    newindv.append(indiv2[x])\n",
    "                else:\n",
    "                    newindv.append(indiv1[x])\n",
    "            i=0\n",
    "            for gen in newindv:\n",
    "                rand= random()\n",
    "                if rand<self.Mutation_Rate:\n",
    "                    newgen=self.Generador()\n",
    "                    newindv[i]=newgen\n",
    "                i=i+1\n",
    "            newPop.append(newindv)\n",
    "        self.Population=newPop"
   ]
  },
  {
   "cell_type": "code",
   "execution_count": 2,
   "metadata": {},
   "outputs": [
    {
     "data": {
      "text/plain": [
       "(array([ 1.,  0.,  0.,  0.,  3.,  0.,  3.,  0.,  2.,  1.]),\n",
       " array([ 0. ,  0.5,  1. ,  1.5,  2. ,  2.5,  3. ,  3.5,  4. ,  4.5,  5. ]),\n",
       " <a list of 10 Patch objects>)"
      ]
     },
     "execution_count": 2,
     "metadata": {},
     "output_type": "execute_result"
    },
    {
     "data": {
      "image/png": "[encoded data removed]",
      "text/plain": [
       "<matplotlib.figure.Figure at 0x7f562c40c5f8>"
      ]
     },
     "metadata": {},
     "output_type": "display_data"
    }
   ],
   "source": [
    "import matplotlib.pyplot as plt\n",
    "from random import randrange, choice\n",
    "def Evalu(indiv):\n",
    "    evalu=0\n",
    "    numsecret=[1,0,1,1,0]\n",
    "    for x in range(5):\n",
    "        if (numsecret[x]==indiv[x]):\n",
    "            evalu=evalu+1\n",
    "    return evalu\n",
    "def Generardor():\n",
    "    return choice([0,1])\n",
    "\n",
    "Genetic1 = Genetic_Algoritmo()\n",
    "Genetic1.Fitness=Evalu\n",
    "Genetic1.Generador=Generardor\n",
    "Genetic1.Genes=5\n",
    "Genetic1.genera_popinicial(10)\n",
    "Genetic1.Evaluate()\n",
    "plt.ion() \n",
    "plt.hist(Genetic1.Evaluation)\n",
    "\n",
    "\n",
    "\n",
    "\n",
    "\n"
   ]
  },
  {
   "cell_type": "code",
   "execution_count": 3,
   "metadata": {},
   "outputs": [
    {
     "data": {
      "text/plain": [
       "(array([  0.,   0.,   0.,   0.,   0.,  10.,   0.,   0.,   0.,   0.]),\n",
       " array([ 4.5,  4.6,  4.7,  4.8,  4.9,  5. ,  5.1,  5.2,  5.3,  5.4,  5.5]),\n",
       " <a list of 10 Patch objects>)"
      ]
     },
     "execution_count": 3,
     "metadata": {},
     "output_type": "execute_result"
    },
    {
     "data": {
      "image/png": "[encoded data removed]",
      "text/plain": [
       "<matplotlib.figure.Figure at 0x7f562c3e5dd8>"
      ]
     },
     "metadata": {},
     "output_type": "display_data"
    }
   ],
   "source": [
    "for x in range(10):\n",
    "    Genetic1.Reproduction()\n",
    "    Genetic1.Evaluate()\n",
    "plt.hist(Genetic1.Evaluation)"
   ]
  },
  {
   "cell_type": "code",
   "execution_count": 27,
   "metadata": {},
   "outputs": [
    {
     "data": {
      "image/png": "[encoded data removed]",
      "text/plain": [
       "<matplotlib.figure.Figure at 0x7f5607dbe080>"
      ]
     },
     "metadata": {},
     "output_type": "display_data"
    }
   ],
   "source": [
    "from random import random, randrange \n",
    "from matplotlib import pyplot\n",
    "import math\n",
    "def fun(x):\n",
    "    return x*x*x + math.exp(x)\n",
    "\n",
    "def generador():\n",
    "    minn= -4\n",
    "    maxx= 4\n",
    "    largo = maxx-minn\n",
    "    rand= random()\n",
    "    return minn + (rand*largo)\n",
    "\n",
    "def Evalu(indv):\n",
    "    if (fun(indv[0])>0 and fun(indv[1])>0):\n",
    "        return 0\n",
    "    if (fun(indv[0])<0 and fun(indv[1])<0):\n",
    "        return 0\n",
    "    if (fun(indv[0])==0 or fun(indv[1])==0):\n",
    "        return 1\n",
    "    return 1/(abs(indv[0]-indv[1]))\n",
    "\n",
    "Genetic1 = Genetic_Algoritmo()\n",
    "Genetic1.Fitness=Evalu\n",
    "Genetic1.Generador=generador\n",
    "Genetic1.Genes=2\n",
    "Genetic1.genera_popinicial(10)\n",
    "Genetic1.Evaluate()\n",
    "x = range(-12, 12)\n",
    "pyplot.plot(x, [fun(i) for i in x])\n",
    "pyplot.axhline(0, color=\"black\")\n",
    "pyplot.axvline(0, color=\"black\")\n",
    "pyplot.xlim(-10, 10)\n",
    "pyplot.ylim(-10, 10)\n",
    "\n",
    "\n",
    "pyplot.show()\n",
    "\n",
    "\n",
    "\n",
    "\n",
    "#plt.ion() \n",
    "#plt.hist(Genetic1.Evaluation)"
   ]
  },
  {
   "cell_type": "code",
   "execution_count": 28,
   "metadata": {},
   "outputs": [
    {
     "data": {
      "image/png": "[encoded data removed]",
      "text/plain": [
       "<matplotlib.figure.Figure at 0x7f56080db860>"
      ]
     },
     "metadata": {},
     "output_type": "display_data"
    }
   ],
   "source": [
    "x = range(-12, 12)\n",
    "pyplot.plot(x, [fun(i) for i in x])\n",
    "pyplot.axhline(0, color=\"black\")\n",
    "pyplot.axvline(0, color=\"black\")\n",
    "pyplot.xlim(-5, 5)\n",
    "pyplot.ylim(-5, 5)\n",
    "\n",
    "for x in Genetic1.Population:\n",
    "    pyplot.plot(x[0],0,'b.')\n",
    "    pyplot.plot(x[1],0,'b.')\n",
    "    \n",
    "\n",
    "\n",
    "    "
   ]
  },
  {
   "cell_type": "code",
   "execution_count": 29,
   "metadata": {},
   "outputs": [
    {
     "data": {
      "image/png": "[encoded data removed]",
      "text/plain": [
       "<matplotlib.figure.Figure at 0x7f5607f45550>"
      ]
     },
     "metadata": {},
     "output_type": "display_data"
    }
   ],
   "source": [
    "#Genetic1.Mutation_Rate=0.5\n",
    "Genetic1.Reproduction()\n",
    "Genetic1.Evaluate()\n",
    "\n",
    "x = range(-12, 12)\n",
    "pyplot.plot(x, [fun(i) for i in x])\n",
    "pyplot.axhline(0, color=\"black\")\n",
    "pyplot.axvline(0, color=\"black\")\n",
    "pyplot.xlim(-5, 5)\n",
    "pyplot.ylim(-5, 5)\n",
    "\n",
    "for x in Genetic1.Population:\n",
    "    pyplot.plot(x[0],0,'b.')\n",
    "    pyplot.plot(x[1],0,'b.')\n",
    "\n",
    "pyplot.show()"
   ]
  },
  {
   "cell_type": "code",
   "execution_count": 30,
   "metadata": {},
   "outputs": [
    {
     "data": {
      "image/png": "[encoded data removed]",
      "text/plain": [
       "<matplotlib.figure.Figure at 0x7f5607bfaf98>"
      ]
     },
     "metadata": {},
     "output_type": "display_data"
    }
   ],
   "source": [
    "Genetic1.Reproduction()\n",
    "Genetic1.Evaluate()\n",
    "\n",
    "x = range(-12, 12)\n",
    "pyplot.plot(x, [fun(i) for i in x])\n",
    "pyplot.axhline(0, color=\"black\")\n",
    "pyplot.axvline(0, color=\"black\")\n",
    "pyplot.xlim(-5, 5)\n",
    "pyplot.ylim(-5, 5)\n",
    "\n",
    "for x in Genetic1.Population:\n",
    "    pyplot.plot(x[0],0,'b.')\n",
    "    pyplot.plot(x[1],0,'b.')\n",
    "\n",
    "pyplot.show()"
   ]
  },
  {
   "cell_type": "code",
   "execution_count": 31,
   "metadata": {},
   "outputs": [
    {
     "data": {
      "image/png": "[encoded data removed]",
      "text/plain": [
       "<matplotlib.figure.Figure at 0x7f56080dbe48>"
      ]
     },
     "metadata": {},
     "output_type": "display_data"
    }
   ],
   "source": [
    "Genetic1.Reproduction()\n",
    "Genetic1.Evaluate()\n",
    "\n",
    "x = range(-12, 12)\n",
    "pyplot.plot(x, [fun(i) for i in x])\n",
    "pyplot.axhline(0, color=\"black\")\n",
    "pyplot.axvline(0, color=\"black\")\n",
    "pyplot.xlim(-5, 5)\n",
    "pyplot.ylim(-5, 5)\n",
    "\n",
    "for x in Genetic1.Population:\n",
    "    pyplot.plot(x[0],0,'b.')\n",
    "    pyplot.plot(x[1],0,'b.')\n",
    "\n",
    "pyplot.show()"
   ]
  },
  {
   "cell_type": "code",
   "execution_count": 32,
   "metadata": {},
   "outputs": [
    {
     "data": {
      "image/png": "[encoded data removed]",
      "text/plain": [
       "<matplotlib.figure.Figure at 0x7f5607e1fe80>"
      ]
     },
     "metadata": {},
     "output_type": "display_data"
    }
   ],
   "source": [
    "Genetic1.Reproduction()\n",
    "Genetic1.Evaluate()\n",
    "\n",
    "x = range(-12, 12)\n",
    "pyplot.plot(x, [fun(i) for i in x])\n",
    "pyplot.axhline(0, color=\"black\")\n",
    "pyplot.axvline(0, color=\"black\")\n",
    "pyplot.xlim(-5, 5)\n",
    "pyplot.ylim(-5, 5)\n",
    "\n",
    "for x in Genetic1.Population:\n",
    "    pyplot.plot(x[0],0,'b.')\n",
    "    pyplot.plot(x[1],0,'b.')\n",
    "\n",
    "pyplot.show()"
   ]
  },
  {
   "cell_type": "code",
   "execution_count": 33,
   "metadata": {},
   "outputs": [
    {
     "data": {
      "image/png": "[encoded data removed]",
      "text/plain": [
       "<matplotlib.figure.Figure at 0x7f5607eca7f0>"
      ]
     },
     "metadata": {},
     "output_type": "display_data"
    }
   ],
   "source": [
    "for x in range(100):\n",
    "    Genetic1.Reproduction()\n",
    "    Genetic1.Evaluate()\n",
    "    \n",
    "    \n",
    "x = range(-12, 12)\n",
    "pyplot.plot(x, [fun(i) for i in x])\n",
    "pyplot.axhline(0, color=\"black\")\n",
    "pyplot.axvline(0, color=\"black\")\n",
    "pyplot.xlim(-5, 5)\n",
    "pyplot.ylim(-5, 5)\n",
    "\n",
    "for x in Genetic1.Population:\n",
    "    pyplot.plot(x[0],0,'b.')\n",
    "    pyplot.plot(x[1],0,'b.')\n",
    "\n",
    "pyplot.show()"
   ]
  },
  {
   "cell_type": "code",
   "execution_count": 34,
   "metadata": {},
   "outputs": [
    {
     "data": {
      "image/png": "[encoded data removed]",
      "text/plain": [
       "<matplotlib.figure.Figure at 0x7f56080d3160>"
      ]
     },
     "metadata": {},
     "output_type": "display_data"
    }
   ],
   "source": [
    "for x in range(1000):\n",
    "    Genetic1.Reproduction()\n",
    "    Genetic1.Evaluate()\n",
    "    \n",
    "    \n",
    "x = range(-12, 12)\n",
    "pyplot.plot(x, [fun(i) for i in x])\n",
    "pyplot.axhline(0, color=\"black\")\n",
    "pyplot.axvline(0, color=\"black\")\n",
    "pyplot.xlim(-5, 5)\n",
    "pyplot.ylim(-5, 5)\n",
    "\n",
    "for x in Genetic1.Population:\n",
    "    pyplot.plot(x[0],0,'b.')\n",
    "    pyplot.plot(x[1],0,'b.')\n",
    "\n",
    "pyplot.show()"
   ]
  },
  {
   "cell_type": "code",
   "execution_count": 36,
   "metadata": {},
   "outputs": [
    {
     "data": {
      "image/png": "[encoded data removed]",
      "text/plain": [
       "<matplotlib.figure.Figure at 0x7f5607f80128>"
      ]
     },
     "metadata": {},
     "output_type": "display_data"
    }
   ],
   "source": [
    "for x in range(1000):\n",
    "    Genetic1.Reproduction()\n",
    "    Genetic1.Evaluate()\n",
    "    \n",
    "    \n",
    "x = range(-12, 12)\n",
    "pyplot.plot(x, [fun(i) for i in x])\n",
    "pyplot.axhline(0, color=\"black\")\n",
    "pyplot.axvline(0, color=\"black\")\n",
    "pyplot.xlim(-5, 5)\n",
    "pyplot.ylim(-5, 5)\n",
    "\n",
    "for x in Genetic1.Population:\n",
    "    pyplot.plot(x[0],0,'b.')\n",
    "    pyplot.plot(x[1],0,'b.')\n",
    "\n",
    "pyplot.show()"
   ]
  },
  {
   "cell_type": "code",
   "execution_count": null,
   "metadata": {
    "collapsed": true
   },
   "outputs": [],
   "source": []
  }
 ],
 "metadata": {
  "kernelspec": {
   "display_name": "Python 3",
   "language": "python",
   "name": "python3"
  },
  "language_info": {
   "codemirror_mode": {
    "name": "ipython",
    "version": 3
   },
   "file_extension": ".py",
   "mimetype": "text/x-python",
   "name": "python",
   "nbconvert_exporter": "python",
   "pygments_lexer": "ipython3",
   "version": "3.6.1"
  }
 },
 "nbformat": 4,
 "nbformat_minor": 2
}
