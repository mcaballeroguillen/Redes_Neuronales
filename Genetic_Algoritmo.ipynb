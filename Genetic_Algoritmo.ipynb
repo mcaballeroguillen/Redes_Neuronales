{
 "cells": [
  {
   "cell_type": "code",
   "execution_count": 1,
   "metadata": {
    "collapsed": true
   },
   "outputs": [],
   "source": [
    "from random import random, randrange \n",
    "class Genetic_Algoritmo:\n",
    "    def __init__(self):\n",
    "        self.Mutation_Rate=0.01\n",
    "        self.Genes=0\n",
    "        self.Population=[]\n",
    "        self.Evaluation=[]\n",
    "        self.Generador=None\n",
    "        self.Fitness=None\n",
    "        self.Selecction=[]\n",
    "    \n",
    "    def genera_popinicial(self, num):\n",
    "        for x in range(num):\n",
    "            indiv=[]\n",
    "            for w in range(self.Genes):\n",
    "                indiv.append(self.Generador())\n",
    "            self.Population.append(indiv)\n",
    "    \n",
    "    def Evaluate(self):\n",
    "        self.Evaluation=[]\n",
    "        for x in range(len(self.Population)):\n",
    "            self.Evaluation.append(self.Fitness(self.Population[x]))\n",
    "    \n",
    "    def Tournament_selection(self,k):\n",
    "        ind=-1;\n",
    "        for x in range(k):\n",
    "            r= randrange(len(self.Population)) \n",
    "            if(ind==-1 or self.Evaluation[r]>self.Evaluation[ind]):\n",
    "                ind=r\n",
    "        self.Selecction.append(self.Population[ind])\n",
    "        \n",
    "    def Reproduction(self):\n",
    "        largo=len(self.Population)\n",
    "        newPop=[]\n",
    "        self.Selecction=[]\n",
    "        for x in range(2*largo):\n",
    "            self.Tournament_selection(5)\n",
    "        for x in range(largo):\n",
    "            newindv=[]\n",
    "            indiv1= self.Selecction[x]\n",
    "            indiv2= self.Selecction[x+largo]\n",
    "            point_mixing= randrange(self.Genes)\n",
    "            for x in range(self.Genes):\n",
    "                if(x>point_mixing):\n",
    "                    newindv.append(indiv2[x])\n",
    "                else:\n",
    "                    newindv.append(indiv1[x])\n",
    "            i=0\n",
    "            for gen in newindv:\n",
    "                rand= random()\n",
    "                if rand<self.Mutation_Rate:\n",
    "                    newgen=self.Generador()\n",
    "                    newindv[i]=newgen\n",
    "                i=i+1\n",
    "            newPop.append(newindv)\n",
    "        self.Population=newPop"
   ]
  },
  {
   "cell_type": "code",
   "execution_count": 2,
   "metadata": {},
   "outputs": [
    {
     "data": {
      "text/plain": [
       "(array([ 1.,  0.,  1.,  0.,  0.,  4.,  0.,  3.,  0.,  1.]),\n",
       " array([ 0. ,  0.4,  0.8,  1.2,  1.6,  2. ,  2.4,  2.8,  3.2,  3.6,  4. ]),\n",
       " <a list of 10 Patch objects>)"
      ]
     },
     "execution_count": 2,
     "metadata": {},
     "output_type": "execute_result"
    },
    {
     "data": {
      "image/png": "[encoded data removed]",
      "text/plain": [
       "<matplotlib.figure.Figure at 0x7f60283b45c0>"
      ]
     },
     "metadata": {},
     "output_type": "display_data"
    }
   ],
   "source": [
    "import matplotlib.pyplot as plt\n",
    "from random import randrange, choice\n",
    "def Evalu(indiv):\n",
    "    evalu=0\n",
    "    numsecret=[1,0,1,1,0]\n",
    "    for x in range(5):\n",
    "        if (numsecret[x]==indiv[x]):\n",
    "            evalu=evalu+1\n",
    "    return evalu\n",
    "def Generardor():\n",
    "    return choice([0,1])\n",
    "\n",
    "Genetic1 = Genetic_Algoritmo()\n",
    "Genetic1.Fitness=Evalu\n",
    "Genetic1.Generador=Generardor\n",
    "Genetic1.Genes=5\n",
    "Genetic1.genera_popinicial(10)\n",
    "Genetic1.Evaluate()\n",
    "plt.ion() \n",
    "plt.hist(Genetic1.Evaluation)\n",
    "\n",
    "\n",
    "\n",
    "\n",
    "\n"
   ]
  },
  {
   "cell_type": "code",
   "execution_count": 3,
   "metadata": {},
   "outputs": [
    {
     "data": {
      "text/plain": [
       "(array([  0.,   0.,   0.,   0.,   0.,  10.,   0.,   0.,   0.,   0.]),\n",
       " array([ 4.5,  4.6,  4.7,  4.8,  4.9,  5. ,  5.1,  5.2,  5.3,  5.4,  5.5]),\n",
       " <a list of 10 Patch objects>)"
      ]
     },
     "execution_count": 3,
     "metadata": {},
     "output_type": "execute_result"
    },
    {
     "data": {
      "image/png": "[encoded data removed]",
      "text/plain": [
       "<matplotlib.figure.Figure at 0x7f602838ca90>"
      ]
     },
     "metadata": {},
     "output_type": "display_data"
    }
   ],
   "source": [
    "for x in range(10):\n",
    "    Genetic1.Reproduction()\n",
    "    Genetic1.Evaluate()\n",
    "plt.hist(Genetic1.Evaluation)"
   ]
  },
  {
   "cell_type": "code",
   "execution_count": 33,
   "metadata": {},
   "outputs": [
    {
     "data": {
      "image/png": "[encoded data removed]",
      "text/plain": [
       "<matplotlib.figure.Figure at 0x7f6003c865f8>"
      ]
     },
     "metadata": {},
     "output_type": "display_data"
    }
   ],
   "source": [
    "from random import random, randrange \n",
    "from matplotlib import pyplot\n",
    "def fun(x):\n",
    "    return x-2\n",
    "\n",
    "def generador():\n",
    "    minn= -4\n",
    "    maxx= 4\n",
    "    largo = maxx-minn\n",
    "    rand= random()\n",
    "    return minn + (rand*largo)\n",
    "\n",
    "def Evalu(indv):\n",
    "    if (fun(indv[0])>0 and fun(indv[1])>0):\n",
    "        return 0\n",
    "    if (fun(indv[0])<0 and fun(indv[1])<0):\n",
    "        return 0\n",
    "    if (fun(indv[0])==0 or fun(indv[1])==0):\n",
    "        return 1\n",
    "    return 1/(abs(indv[0]-indv[1]))\n",
    "\n",
    "Genetic1 = Genetic_Algoritmo()\n",
    "Genetic1.Fitness=Evalu\n",
    "Genetic1.Generador=generador\n",
    "Genetic1.Genes=2\n",
    "Genetic1.genera_popinicial(10)\n",
    "Genetic1.Evaluate()\n",
    "x = range(-12, 12)\n",
    "pyplot.plot(x, [fun(i) for i in x])\n",
    "pyplot.axhline(0, color=\"black\")\n",
    "pyplot.axvline(0, color=\"black\")\n",
    "pyplot.xlim(-10, 10)\n",
    "pyplot.ylim(-10, 10)\n",
    "\n",
    "\n",
    "pyplot.show()\n",
    "\n",
    "\n",
    "\n",
    "\n",
    "#plt.ion() \n",
    "#plt.hist(Genetic1.Evaluation)"
   ]
  },
  {
   "cell_type": "code",
   "execution_count": 34,
   "metadata": {},
   "outputs": [
    {
     "data": {
      "image/png": "[encoded data removed]",
      "text/plain": [
       "<matplotlib.figure.Figure at 0x7f6003f96a20>"
      ]
     },
     "metadata": {},
     "output_type": "display_data"
    }
   ],
   "source": [
    "x = range(-12, 12)\n",
    "pyplot.plot(x, [fun(i) for i in x])\n",
    "pyplot.axhline(0, color=\"black\")\n",
    "pyplot.axvline(0, color=\"black\")\n",
    "pyplot.xlim(-5, 5)\n",
    "pyplot.ylim(-5, 5)\n",
    "\n",
    "for x in Genetic1.Population:\n",
    "    pyplot.plot(x[0],0,'b.')\n",
    "    pyplot.plot(x[1],0,'b.')\n",
    "    \n",
    "\n",
    "\n",
    "    "
   ]
  },
  {
   "cell_type": "code",
   "execution_count": 35,
   "metadata": {},
   "outputs": [
    {
     "name": "stdout",
     "output_type": "stream",
     "text": [
      "[[1.9888203756657346, 2.145848243036408], [-2.694827395748826, 1.4521287819349675], [-2.694827395748826, 2.145848243036408], [-3.2812278802996744, -0.6509730857188121], [1.9888203756657346, 2.145848243036408], [-2.694827395748826, 2.145848243036408], [-1.425265353990639, 3.4625317704894956], [-2.227822427054713, 1.4521287819349675], [-1.5481203527530383, -0.6609868769491563], [-2.694827395748826, 2.145848243036408]]\n"
     ]
    },
    {
     "data": {
      "image/png": "[encoded data removed]",
      "text/plain": [
       "<matplotlib.figure.Figure at 0x7f6003f41b38>"
      ]
     },
     "metadata": {},
     "output_type": "display_data"
    }
   ],
   "source": [
    "#Genetic1.Mutation_Rate=0.5\n",
    "Genetic1.Reproduction()\n",
    "Genetic1.Evaluate()\n",
    "\n",
    "x = range(-12, 12)\n",
    "pyplot.plot(x, [fun(i) for i in x])\n",
    "pyplot.axhline(0, color=\"black\")\n",
    "pyplot.axvline(0, color=\"black\")\n",
    "pyplot.xlim(-5, 5)\n",
    "pyplot.ylim(-5, 5)\n",
    "\n",
    "for x in Genetic1.Population:\n",
    "    pyplot.plot(x[0],0,'g.')\n",
    "    pyplot.plot(x[1],0,'g.')\n",
    "print(Genetic1.Population)\n",
    "pyplot.show()"
   ]
  },
  {
   "cell_type": "code",
   "execution_count": 36,
   "metadata": {},
   "outputs": [
    {
     "name": "stdout",
     "output_type": "stream",
     "text": [
      "[[1.9888203756657346, 2.145848243036408], [-2.694827395748826, 2.145848243036408], [1.9888203756657346, 2.145848243036408], [1.9888203756657346, 2.145848243036408], [1.9888203756657346, 2.145848243036408], [1.9888203756657346, 2.145848243036408], [-2.694827395748826, 2.145848243036408], [-2.694827395748826, 2.145848243036408], [-2.694827395748826, 2.145848243036408], [1.9888203756657346, 2.145848243036408]]\n"
     ]
    },
    {
     "data": {
      "image/png": "[encoded data removed]",
      "text/plain": [
       "<matplotlib.figure.Figure at 0x7f6003c629e8>"
      ]
     },
     "metadata": {},
     "output_type": "display_data"
    }
   ],
   "source": [
    "Genetic1.Reproduction()\n",
    "Genetic1.Evaluate()\n",
    "\n",
    "x = range(-12, 12)\n",
    "pyplot.plot(x, [fun(i) for i in x])\n",
    "pyplot.axhline(0, color=\"black\")\n",
    "pyplot.axvline(0, color=\"black\")\n",
    "pyplot.xlim(-5, 5)\n",
    "pyplot.ylim(-5, 5)\n",
    "\n",
    "for x in Genetic1.Population:\n",
    "    pyplot.plot(x[0],0,'g.')\n",
    "    pyplot.plot(x[1],0,'g.')\n",
    "print(Genetic1.Population)\n",
    "pyplot.show()"
   ]
  },
  {
   "cell_type": "code",
   "execution_count": 37,
   "metadata": {},
   "outputs": [
    {
     "name": "stdout",
     "output_type": "stream",
     "text": [
      "[[1.5720517954167166, 2.145848243036408], [1.9888203756657346, 2.145848243036408], [1.9888203756657346, 2.145848243036408], [1.9888203756657346, 2.145848243036408], [1.9888203756657346, 2.145848243036408], [1.9888203756657346, 2.145848243036408], [1.9888203756657346, 2.145848243036408], [1.9888203756657346, 2.145848243036408], [1.9888203756657346, 2.145848243036408], [1.9888203756657346, 2.145848243036408]]\n"
     ]
    },
    {
     "data": {
      "image/png": "[encoded data removed]",
      "text/plain": [
       "<matplotlib.figure.Figure at 0x7f600402bc88>"
      ]
     },
     "metadata": {},
     "output_type": "display_data"
    }
   ],
   "source": [
    "Genetic1.Reproduction()\n",
    "Genetic1.Evaluate()\n",
    "\n",
    "x = range(-12, 12)\n",
    "pyplot.plot(x, [fun(i) for i in x])\n",
    "pyplot.axhline(0, color=\"black\")\n",
    "pyplot.axvline(0, color=\"black\")\n",
    "pyplot.xlim(-5, 5)\n",
    "pyplot.ylim(-5, 5)\n",
    "\n",
    "for x in Genetic1.Population:\n",
    "    pyplot.plot(x[0],0,'g.')\n",
    "    pyplot.plot(x[1],0,'g.')\n",
    "print(Genetic1.Population)\n",
    "pyplot.show()"
   ]
  },
  {
   "cell_type": "code",
   "execution_count": 38,
   "metadata": {},
   "outputs": [
    {
     "name": "stdout",
     "output_type": "stream",
     "text": [
      "[[1.9888203756657346, 2.145848243036408], [1.9888203756657346, 2.145848243036408], [1.9888203756657346, 2.145848243036408], [1.9888203756657346, 2.145848243036408], [1.9888203756657346, 2.145848243036408], [1.9888203756657346, 2.145848243036408], [1.9888203756657346, 2.145848243036408], [1.9888203756657346, 2.145848243036408], [1.9888203756657346, 2.145848243036408], [1.9888203756657346, 2.145848243036408]]\n"
     ]
    },
    {
     "data": {
      "image/png": "[encoded data removed]",
      "text/plain": [
       "<matplotlib.figure.Figure at 0x7f6003e4bcc0>"
      ]
     },
     "metadata": {},
     "output_type": "display_data"
    }
   ],
   "source": [
    "Genetic1.Reproduction()\n",
    "Genetic1.Evaluate()\n",
    "\n",
    "x = range(-12, 12)\n",
    "pyplot.plot(x, [fun(i) for i in x])\n",
    "pyplot.axhline(0, color=\"black\")\n",
    "pyplot.axvline(0, color=\"black\")\n",
    "pyplot.xlim(-5, 5)\n",
    "pyplot.ylim(-5, 5)\n",
    "\n",
    "for x in Genetic1.Population:\n",
    "    pyplot.plot(x[0],0,'g.')\n",
    "    pyplot.plot(x[1],0,'g.')\n",
    "print(Genetic1.Population)\n",
    "pyplot.show()"
   ]
  },
  {
   "cell_type": "code",
   "execution_count": null,
   "metadata": {
    "collapsed": true
   },
   "outputs": [],
   "source": []
  }
 ],
 "metadata": {
  "kernelspec": {
   "display_name": "Python 3",
   "language": "python",
   "name": "python3"
  },
  "language_info": {
   "codemirror_mode": {
    "name": "ipython",
    "version": 3
   },
   "file_extension": ".py",
   "mimetype": "text/x-python",
   "name": "python",
   "nbconvert_exporter": "python",
   "pygments_lexer": "ipython3",
   "version": "3.6.1"
  }
 },
 "nbformat": 4,
 "nbformat_minor": 2
}
