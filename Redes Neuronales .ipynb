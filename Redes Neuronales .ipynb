{
 "cells": [
  {
   "cell_type": "markdown",
   "metadata": {},
   "source": [
    "Definición de la Clase Perceptron:"
   ]
  },
  {
   "cell_type": "code",
   "execution_count": 8,
   "metadata": {
    "collapsed": true
   },
   "outputs": [],
   "source": [
    "import numpy as np\n",
    "\n",
    "\n",
    "class Perceptron: \n",
    "    def __init__(self):\n",
    "        self.pesos= []\n",
    "        self.datos=[]\n",
    "        self.b=0\n",
    "        self.out=0\n",
    "        self.dif=0\n",
    "        self.lr=0.1\n",
    "        self.bout=0\n",
    "        \n",
    "    def agregarlr(self,valor):\n",
    "        self.lr=valor\n",
    "        \n",
    "    def agregarpeso(self,peso):\n",
    "        self.pesos.append(peso)\n",
    "        \n",
    "    def agregardato(self,dato):\n",
    "        self.datos.append(dato)\n",
    "        \n",
    "    def agregarbais(self,bais):\n",
    "        self.b=bais\n",
    "        \n",
    "    def run(self):\n",
    "        ps=np.array(self.pesos)\n",
    "        dt=np.array(self.datos)\n",
    "        x= ps*dt\n",
    "        x1=x.sum()\n",
    "        self.out=x1+self.b\n",
    "        if self.out>=0:\n",
    "            self.bout=1\n",
    "        else:\n",
    "            self.bout=0\n",
    "    def agregardatos(self,dats):\n",
    "        self.datos=dats\n",
    "        \n",
    "    def vaciardatos(self):\n",
    "        self.datos=[]\n",
    "        \n",
    "    def resp(self):\n",
    "        return self.out> 0\n",
    "    \n",
    "    def entrenar(self,datos,outesp):\n",
    "        self.vaciardatos()\n",
    "        self.datos=datos\n",
    "        self.run()\n",
    "        self.dif= self.bout - outesp\n",
    "        npesos=[]\n",
    "        i=0\n",
    "        for x in self.pesos:\n",
    "            w= x+ (self.lr*self.datos[i]*self.dif)\n",
    "            npesos.append(w)\n",
    "            i=i+1\n",
    "        self.pesos=npesos\n",
    "        self.b=self.b + (self.lr*self.dif)\n",
    "        \n",
    "            \n",
    "        \n",
    "            "
   ]
  },
  {
   "cell_type": "code",
   "execution_count": 39,
   "metadata": {
    "collapsed": true
   },
   "outputs": [],
   "source": [
    "class Entrenador:\n",
    "    def __init__(self,perceptron):\n",
    "        self.per= perceptron\n",
    "        self.newper=perceptron\n",
    "        self.xtrain=[]\n",
    "        self.ytrain=[]\n",
    "        self.xtest=[]\n",
    "        self.out=[]\n",
    "        self.ytest=[]\n",
    "    \n",
    "    def setxtrain(self,datos):\n",
    "        self.xtrain=datos\n",
    "    \n",
    "    def setytrain(self,datos):\n",
    "        self.ytrain=datos\n",
    "        \n",
    "    def setxtest(self,datos):\n",
    "        self.xtest=datos\n",
    "    \n",
    "    def setytest(self,datos):\n",
    "        self.ytest=datos\n",
    "        \n",
    "    def entrenar(self,cantidad):\n",
    "        self.per=self.newper\n",
    "        for x in range(cantidad):\n",
    "            self.per.entrenar(self.xtrain[x%len(xtrain)],self.ytrain[x%len(ytrain)])\n",
    "    def run(self):\n",
    "        self.out=[]\n",
    "        for x in self.xtest:\n",
    "            per.agregardatos(x)\n",
    "            per.run()\n",
    "            self.out.append(per.bout)\n",
    "            \n",
    "    def evaluar(self):   \n",
    "        cont=0\n",
    "        i=0\n",
    "        for x in self.out:\n",
    "            if x==self.ytest[i]:\n",
    "                cont=cont+1\n",
    "            i=i+1\n",
    "        return cont"
   ]
  },
  {
   "cell_type": "code",
   "execution_count": 41,
   "metadata": {},
   "outputs": [
    {
     "data": {
      "image/png": "[encoded data removed]",
      "text/plain": [
       "<matplotlib.figure.Figure at 0x7f4b135189b0>"
      ]
     },
     "metadata": {},
     "output_type": "display_data"
    },
    {
     "name": "stdout",
     "output_type": "stream",
     "text": [
      "7\n"
     ]
    }
   ],
   "source": [
    "import random \n",
    "from matplotlib import pyplot\n",
    "xtrain=[]\n",
    "#Definimos la función\n",
    "def f1(x):\n",
    "    return 3*x+1\n",
    "\"\"\"Aquí creamos 100 puntos los cuales utilizaremos para entrenar\n",
    "al perceptron\"\"\"\n",
    "for z in range(100):\n",
    "    x= random.uniform(-3,3)\n",
    "    y = random.uniform(-3,3)\n",
    "    xtrain.append([x,y])\n",
    "\n",
    "ytrain=[]\n",
    "\"\"\"Vemos si los puntos creados anteriormente esta por arriba de nuestra recta\n",
    "y guardamos 1 si lo esta y 0 si no, estos nos serivirá para entrenar al perceptron \"\"\"\n",
    "i=0\n",
    "for z in range(100):\n",
    "    if xtrain[i][1]<f1(xtrain[i][0]):\n",
    "        ytrain.append(0)\n",
    "    else:\n",
    "        ytrain.append(1)\n",
    "    i=i+1\n",
    "\n",
    "\"Creanos 100 puntos para evaluar el rendimiento del perceptron\"\n",
    "xtest=[]\n",
    "\n",
    "for z in range(100):\n",
    "    x= random.uniform(-3,3)\n",
    "    y = random.uniform(-3,3)\n",
    "    xtest.append([x,y])\n",
    "\n",
    "ytest=[]\n",
    "i=0\n",
    "\"Evaluamos si los puntos crados anteriormente esta sobre la recta\"\n",
    "for z in range(100):\n",
    "    if xtest[i][1]<f1(xtest[i][0]):\n",
    "        ytest.append(0)\n",
    "    else:\n",
    "        ytest.append(1)\n",
    "    i=i+1\n",
    "\"\"\"Creamos un perecpetron\"\"\"\n",
    "per=Perceptron()\n",
    "per.agregarpeso(2)\n",
    "per.agregarpeso(-2)\n",
    "per.agregarbais(-1)\n",
    "\"\"\"Creamos un entrandor con los conjuntos antes crados\"\"\"\n",
    "\n",
    "entrenador= Entrenador(per)\n",
    "entrenador.setxtrain(xtrain)\n",
    "entrenador.setytrain(ytrain)\n",
    "entrenador.entrenar(5)\n",
    "entrenador.setxtest(xtest)\n",
    "entrenador.setytest(ytest)\n",
    "entrenador.run()\n",
    "\n",
    "xfun=[-3,3]\n",
    "yfun=[f1(-3),f1(3)]\n",
    "pyplot.plot(xfun,yfun)\n",
    "pyplot.show()\n",
    "i=0\n",
    "for x in entrenador.out:\n",
    "    \n",
    "    if x==0:\n",
    "        pyplot.scatter(xtest[i][0],xtest[i][1],color=\"Red\")\n",
    "    else:\n",
    "        pyplot.scatter(xtest[i][0],xtest[i][1],color=\"Blue\")\n",
    "    i=i+1\n",
    "rendimiento = entrenador.evaluar()\n",
    "print(rendimiento)\n",
    "    "
   ]
  },
  {
   "cell_type": "code",
   "execution_count": 26,
   "metadata": {},
   "outputs": [
    {
     "data": {
      "image/png": "[encoded data removed]",
      "text/plain": [
       "<matplotlib.figure.Figure at 0x7f51981566a0>"
      ]
     },
     "metadata": {},
     "output_type": "display_data"
    }
   ],
   "source": [
    "from matplotlib import pyplot\n",
    "import random \n",
    "delta=100\n",
    "xtrain=[]\n",
    "fxtrain=[]\n",
    "ytrain=[]\n",
    "train=[]\n",
    "def f1(x):\n",
    "    return 3*x+1\n",
    "for z in range(delta):\n",
    "    xtrain.append(random.uniform(-3,3))\n",
    "    \n",
    "for z in range(delta):\n",
    "     ytrain.append(random.uniform(-3,3))\n",
    "\n",
    "i=0\n",
    "for z in range(delta):\n",
    "    fxtrain.append(f1(xtrain[i]))\n",
    "    i=i+1\n",
    "i=0\n",
    "for z in ytrain:\n",
    "    if z>=fxtrain[i]:\n",
    "        train.append(1)\n",
    "    else:\n",
    "        train.append(0)\n",
    "    i=i+1\n",
    "\n",
    "\n",
    "per=Perceptron()\n",
    "per.agregarpeso(2)\n",
    "per.agregarpeso(-2)\n",
    "per.agregarbais(-1)\n",
    "i=0\n",
    "for z in range(delta):\n",
    "    entrada=[xtrain[i],ytrain[i]]\n",
    "    per.entrenar(entrada,train[i])\n",
    "    i=i+1\n",
    "xtest=[]\n",
    "ytest=[]\n",
    "test=[]\n",
    "\n",
    "i=0\n",
    "correctos=0\n",
    "for z in range(100):\n",
    "    x = random.uniform(-3,3)\n",
    "    y = random.uniform(-3,3)\n",
    "    per.agregardatos([x,y])\n",
    "    per.run()\n",
    "    if(per.bout==0):\n",
    "        test.append(\"Red\")\n",
    "        if(y<f1(x)):\n",
    "            correctos=correctos+1\n",
    "    else:\n",
    "        test.append(\"Blue\")\n",
    "        if(y>=f1(x)):\n",
    "            correctos+1\n",
    "    xtest.append(x)\n",
    "    ytest.append(y)\n",
    "\n",
    "i=0\n",
    "\n",
    "\n",
    "pyplot.plot(xtrain,fxtrain)\n",
    "for z in xtest:\n",
    "    pyplot.scatter(z,ytest[i],color=test[i])\n",
    "    i=i+1\n",
    "\n",
    "\n",
    "pyplot.show()"
   ]
  },
  {
   "cell_type": "markdown",
   "metadata": {},
   "source": [
    "Implementación del perceptron or:"
   ]
  },
  {
   "cell_type": "code",
   "execution_count": 15,
   "metadata": {},
   "outputs": [
    {
     "name": "stdout",
     "output_type": "stream",
     "text": [
      "0 or 0 =  False\n",
      "1 or 0 =  True\n",
      "0 or 1 =  True\n",
      "1 or 1 =  True\n"
     ]
    }
   ],
   "source": [
    "oor = Perceptron()\n",
    "oor.agregarpeso(2)\n",
    "oor.agregarpeso(2)\n",
    "oor.agregardato(0)\n",
    "oor.agregardato(0)\n",
    "oor.agregarbais(-1)\n",
    "oor.run()\n",
    "print (\"0 or 0 = \",oor.resp())\n",
    "oor.vaciardatos()\n",
    "oor.agregardato(1)\n",
    "oor.agregardato(0)\n",
    "oor.run()\n",
    "print (\"1 or 0 = \",oor.resp())\n",
    "oor.vaciardatos()\n",
    "oor.agregardato(0)\n",
    "oor.agregardato(1)\n",
    "oor.run()\n",
    "print (\"0 or 1 = \",oor.resp())\n",
    "oor.vaciardatos()\n",
    "oor.agregardato(1)\n",
    "oor.agregardato(1)\n",
    "oor.run()\n",
    "print (\"1 or 1 = \",oor.resp())"
   ]
  },
  {
   "cell_type": "markdown",
   "metadata": {},
   "source": [
    "Implementación  Perceptron and:"
   ]
  },
  {
   "cell_type": "code",
   "execution_count": 20,
   "metadata": {},
   "outputs": [
    {
     "name": "stdout",
     "output_type": "stream",
     "text": [
      "0 and 0 =  False\n",
      "0 and 1 =  False\n",
      "1 and 0 =  False\n",
      "1 and 1 =  True\n"
     ]
    }
   ],
   "source": [
    "ann= Perceptron()\n",
    "ann.agregarpeso(2)\n",
    "ann.agregarpeso(2)\n",
    "ann.agregarbais(-3)\n",
    "ann.agregardato(0)\n",
    "ann.agregardato(0)\n",
    "ann.run()\n",
    "print(\"0 and 0 = \",ann.resp() )\n",
    "ann.vaciardatos()\n",
    "ann.agregardato(0)\n",
    "ann.agregardato(1)\n",
    "ann.run()\n",
    "print(\"0 and 1 = \",ann.resp() )\n",
    "ann.vaciardatos()\n",
    "ann.agregardato(1)\n",
    "ann.agregardato(0)\n",
    "ann.run()\n",
    "print(\"1 and 0 = \",ann.resp() )\n",
    "ann.vaciardatos()\n",
    "ann.agregardato(1)\n",
    "ann.agregardato(1)\n",
    "ann.run()\n",
    "print(\"1 and 1 = \",ann.resp() )"
   ]
  },
  {
   "cell_type": "markdown",
   "metadata": {},
   "source": [
    "Implementación del perceptron nand"
   ]
  },
  {
   "cell_type": "code",
   "execution_count": 21,
   "metadata": {},
   "outputs": [
    {
     "name": "stdout",
     "output_type": "stream",
     "text": [
      "0 nand 0 =  True\n",
      "0 nand 1 =  True\n",
      "1 nand 0 =  True\n",
      "1 nand 1 =  False\n"
     ]
    }
   ],
   "source": [
    "ann= Perceptron()\n",
    "ann.agregarpeso(-2)\n",
    "ann.agregarpeso(-2)\n",
    "ann.agregarbais(3)\n",
    "ann.agregardato(0)\n",
    "ann.agregardato(0)\n",
    "ann.run()\n",
    "print(\"0 nand 0 = \",ann.resp() )\n",
    "ann.vaciardatos()\n",
    "ann.agregardato(0)\n",
    "ann.agregardato(1)\n",
    "ann.run()\n",
    "print(\"0 nand 1 = \",ann.resp() )\n",
    "ann.vaciardatos()\n",
    "ann.agregardato(1)\n",
    "ann.agregardato(0)\n",
    "ann.run()\n",
    "print(\"1 nand 0 = \",ann.resp() )\n",
    "ann.vaciardatos()\n",
    "ann.agregardato(1)\n",
    "ann.agregardato(1)\n",
    "ann.run()\n",
    "print(\"1 nand 1 = \",ann.resp() )"
   ]
  },
  {
   "cell_type": "markdown",
   "metadata": {},
   "source": [
    "Implementación de not"
   ]
  },
  {
   "cell_type": "code",
   "execution_count": 25,
   "metadata": {},
   "outputs": [
    {
     "name": "stdout",
     "output_type": "stream",
     "text": [
      "not de 1 False\n",
      "not de 0 True\n"
     ]
    }
   ],
   "source": [
    "noot= Perceptron()\n",
    "noot.agregarpeso(-1)\n",
    "noot.agregarbais(1)\n",
    "noot.agregardato(1)\n",
    "noot.run()\n",
    "print(\"not de 1\",noot.resp())\n",
    "noot.vaciardatos()\n",
    "noot.agregardato(0)\n",
    "noot.run()\n",
    "print(\"not de 0\",noot.resp())"
   ]
  },
  {
   "cell_type": "code",
   "execution_count": null,
   "metadata": {
    "collapsed": true
   },
   "outputs": [],
   "source": []
  }
 ],
 "metadata": {
  "kernelspec": {
   "display_name": "Python 3",
   "language": "python",
   "name": "python3"
  },
  "language_info": {
   "codemirror_mode": {
    "name": "ipython",
    "version": 3
   },
   "file_extension": ".py",
   "mimetype": "text/x-python",
   "name": "python",
   "nbconvert_exporter": "python",
   "pygments_lexer": "ipython3",
   "version": "3.6.1"
  }
 },
 "nbformat": 4,
 "nbformat_minor": 2
}
