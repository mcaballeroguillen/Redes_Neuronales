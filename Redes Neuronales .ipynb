{
 "cells": [
  {
   "cell_type": "markdown",
   "metadata": {},
   "source": [
    "Definición de la Clase Perceptron que recibe dos pesos y el bais"
   ]
  },
  {
   "cell_type": "code",
   "execution_count": 16,
   "metadata": {},
   "outputs": [],
   "source": [
    "import numpy as np\n",
    "\n",
    "\n",
    "class Perceptron: \n",
    "    def __init__(self):\n",
    "        self.pesos= []\n",
    "        self.datos=[]\n",
    "        self.b=0\n",
    "        self.out=0\n",
    "    def agregarpeso(self,peso):\n",
    "        self.pesos.append(peso)\n",
    "        \n",
    "    def agregardato(self,dato):\n",
    "        self.datos.append(dato)\n",
    "    def agregarbais(self,bais):\n",
    "        self.b=bais\n",
    "    def run(self):\n",
    "        ps=np.array(self.pesos)\n",
    "        dt=np.array(self.datos)\n",
    "        x= ps*dt\n",
    "        x1=x.sum()\n",
    "        out=x1+self.b\n",
    "        \n",
    "        \n",
    "    def resp(self):\n",
    "        return self.out> 0\n",
    "                \n",
    "            \n",
    "        \n",
    "            "
   ]
  },
  {
   "cell_type": "markdown",
   "metadata": {},
   "source": [
    "Implementación del perceptron or:"
   ]
  },
  {
   "cell_type": "code",
   "execution_count": 21,
   "metadata": {},
   "outputs": [
    {
     "name": "stdout",
     "output_type": "stream",
     "text": [
      "False\n"
     ]
    }
   ],
   "source": [
    "oor = Perceptron()\n",
    "oor.agregarpeso(2)\n",
    "oor.agregarpeso(2)\n",
    "oor.agregardato(0)\n",
    "oor.agregardato(0)\n",
    "oor.agregarbais(-1)\n",
    "oor.run()\n",
    "print (oor.resp())"
   ]
  },
  {
   "cell_type": "markdown",
   "metadata": {},
   "source": [
    "Implementación  Perceptron and:"
   ]
  },
  {
   "cell_type": "code",
   "execution_count": 30,
   "metadata": {},
   "outputs": [
    {
     "name": "stdout",
     "output_type": "stream",
     "text": [
      "0 and 0 = False\n",
      "0 and 1 = False\n",
      "1 and 0 = False\n",
      "1 and 1= True\n"
     ]
    }
   ],
   "source": [
    "ann= Perceptron(2,2,-3)\n",
    "ann.run(0,0)\n",
    "print(\"0 and 0 =\", ann.resp())\n",
    "ann.run(0,1)\n",
    "print(\"0 and 1 =\", ann.resp())\n",
    "ann.run(1,0)\n",
    "print(\"1 and 0 =\", ann.resp())\n",
    "ann.run(1,1)\n",
    "print(\"1 and 1=\", ann.resp())"
   ]
  },
  {
   "cell_type": "markdown",
   "metadata": {},
   "source": [
    "Implementación del perceptron nand"
   ]
  },
  {
   "cell_type": "code",
   "execution_count": 33,
   "metadata": {},
   "outputs": [
    {
     "name": "stdout",
     "output_type": "stream",
     "text": [
      "0 nand 0 = True\n",
      "1 nand 0 = True\n",
      "0 nand 1 = True\n",
      "1 nand 1 = False\n"
     ]
    }
   ],
   "source": [
    "nand = Perceptron(-2,-2,3)\n",
    "nand.run(0,0)\n",
    "print(\"0 nand 0 =\", nand.resp())\n",
    "nand.run(1,0)\n",
    "print(\"1 nand 0 =\", nand.resp())\n",
    "nand.run(0,0)\n",
    "print(\"0 nand 1 =\", nand.resp())\n",
    "nand.run(1,1)\n",
    "print(\"1 nand 1 =\", nand.resp())"
   ]
  }
 ],
 "metadata": {
  "kernelspec": {
   "display_name": "Python 3",
   "language": "python",
   "name": "python3"
  },
  "language_info": {
   "codemirror_mode": {
    "name": "ipython",
    "version": 3
   },
   "file_extension": ".py",
   "mimetype": "text/x-python",
   "name": "python",
   "nbconvert_exporter": "python",
   "pygments_lexer": "ipython3",
   "version": "3.6.1"
  }
 },
 "nbformat": 4,
 "nbformat_minor": 2
}
