{
 "cells": [
  {
   "cell_type": "markdown",
   "metadata": {},
   "source": [
    "Definición de la Clase Perceptron que recibe dos pesos y el bais"
   ]
  },
  {
   "cell_type": "code",
   "execution_count": 22,
   "metadata": {},
   "outputs": [],
   "source": [
    "class Perceptron: \n",
    "    def __init__(self, peso1, peso2,bias):\n",
    "        self.w1=peso1\n",
    "        self.w2=peso2\n",
    "        self.b=bias\n",
    "        self.out=0\n",
    "    def run(self,x1,x2):\n",
    "        self.out=(self.w1*x1+ self.w2*x2)+self.b\n",
    "        \n",
    "    def resp(self):\n",
    "        return self.out> 0\n",
    "                \n",
    "            \n",
    "        \n",
    "            "
   ]
  },
  {
   "cell_type": "markdown",
   "metadata": {},
   "source": [
    "Implementación del perceptron or:"
   ]
  },
  {
   "cell_type": "code",
   "execution_count": 24,
   "metadata": {},
   "outputs": [
    {
     "name": "stdout",
     "output_type": "stream",
     "text": [
      "0 o 0 = False\n",
      "0 o 1 = True\n",
      "1 o 1 = True\n",
      "1 o 1 = True\n"
     ]
    }
   ],
   "source": [
    "our= Perceptron(2,2,-1)\n",
    "our.run(0,0)\n",
    "print(\"0 o 0 =\",our.resp())\n",
    "our.run(0,1)\n",
    "print(\"0 o 1 =\",our.resp())\n",
    "our.run(1,0)\n",
    "print(\"1 o 1 =\",our.resp())\n",
    "our.run(1,1)\n",
    "print(\"1 o 1 =\",our.resp())\n"
   ]
  },
  {
   "cell_type": "markdown",
   "metadata": {},
   "source": [
    "Implementación  Perceptron and:"
   ]
  },
  {
   "cell_type": "code",
   "execution_count": 30,
   "metadata": {},
   "outputs": [
    {
     "name": "stdout",
     "output_type": "stream",
     "text": [
      "0 and 0 = False\n",
      "0 and 1 = False\n",
      "1 and 0 = False\n",
      "1 and 1= True\n"
     ]
    }
   ],
   "source": [
    "ann= Perceptron(2,2,-3)\n",
    "ann.run(0,0)\n",
    "print(\"0 and 0 =\", ann.resp())\n",
    "ann.run(0,1)\n",
    "print(\"0 and 1 =\", ann.resp())\n",
    "ann.run(1,0)\n",
    "print(\"1 and 0 =\", ann.resp())\n",
    "ann.run(1,1)\n",
    "print(\"1 and 1=\", ann.resp())"
   ]
  },
  {
   "cell_type": "markdown",
   "metadata": {},
   "source": [
    "Implementación del perceptron nand"
   ]
  },
  {
   "cell_type": "code",
   "execution_count": 33,
   "metadata": {},
   "outputs": [
    {
     "name": "stdout",
     "output_type": "stream",
     "text": [
      "0 nand 0 = True\n",
      "1 nand 0 = True\n",
      "0 nand 1 = True\n",
      "1 nand 1 = False\n"
     ]
    }
   ],
   "source": [
    "nand = Perceptron(-2,-2,3)\n",
    "nand.run(0,0)\n",
    "print(\"0 nand 0 =\", nand.resp())\n",
    "nand.run(1,0)\n",
    "print(\"1 nand 0 =\", nand.resp())\n",
    "nand.run(0,0)\n",
    "print(\"0 nand 1 =\", nand.resp())\n",
    "nand.run(1,1)\n",
    "print(\"1 nand 1 =\", nand.resp())"
   ]
  }
 ],
 "metadata": {
  "kernelspec": {
   "display_name": "Python 3",
   "language": "python",
   "name": "python3"
  },
  "language_info": {
   "codemirror_mode": {
    "name": "ipython",
    "version": 3
   },
   "file_extension": ".py",
   "mimetype": "text/x-python",
   "name": "python",
   "nbconvert_exporter": "python",
   "pygments_lexer": "ipython3",
   "version": "3.6.1"
  }
 },
 "nbformat": 4,
 "nbformat_minor": 2
}
