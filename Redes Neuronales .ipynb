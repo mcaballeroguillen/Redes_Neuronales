{
 "cells": [
  {
   "cell_type": "markdown",
   "metadata": {},
   "source": [
    "Definición de la Clase Perceptron:"
   ]
  },
  {
   "cell_type": "code",
   "execution_count": 40,
   "metadata": {
    "collapsed": true
   },
   "outputs": [],
   "source": [
    "import numpy as np\n",
    "\n",
    "\n",
    "class Perceptron: \n",
    "    def __init__(self):\n",
    "        self.pesos= []\n",
    "        self.datos=[]\n",
    "        self.b=0\n",
    "        self.out=0\n",
    "        self.dif=0\n",
    "        self.lr=0.1\n",
    "        self.bout=0\n",
    "        \n",
    "    def agregarlr(self,valor):\n",
    "        self.lr=valor\n",
    "        \n",
    "    def agregarpeso(self,peso):\n",
    "        self.pesos.append(peso)\n",
    "        \n",
    "    def agregardato(self,dato):\n",
    "        self.datos.append(dato)\n",
    "        \n",
    "    def agregarbais(self,bais):\n",
    "        self.b=bais\n",
    "        \n",
    "    def run(self):\n",
    "        ps=np.array(self.pesos)\n",
    "        dt=np.array(self.datos)\n",
    "        x= ps*dt\n",
    "        x1=x.sum()\n",
    "        self.out=x1+self.b\n",
    "        if self.out>=0:\n",
    "            self.bout=1\n",
    "        else:\n",
    "            self.bout=0\n",
    "    def agregardatos(self,dats):\n",
    "        self.datos=dats\n",
    "        \n",
    "    def vaciardatos(self):\n",
    "        self.datos=[]\n",
    "        \n",
    "    def resp(self):\n",
    "        return self.out> 0\n",
    "    \n",
    "    def entrenar(self,datos,outesp):\n",
    "        self.vaciardatos()\n",
    "        self.datos=datos\n",
    "        self.run()\n",
    "        self.dif= self.bout - outesp\n",
    "        npesos=[]\n",
    "        i=0\n",
    "        for x in self.pesos:\n",
    "            w= x+ (self.lr*self.datos[i]*self.dif)\n",
    "            npesos.append(w)\n",
    "            i=i+1\n",
    "        self.pesos=npesos\n",
    "        self.b=self.b + (self.lr*self.dif)\n",
    "        \n",
    "            \n",
    "        \n",
    "            "
   ]
  },
  {
   "cell_type": "code",
   "execution_count": 35,
   "metadata": {},
   "outputs": [
    {
     "name": "stdout",
     "output_type": "stream",
     "text": [
      "-3\n"
     ]
    }
   ],
   "source": [
    "per=Perceptron()\n",
    "per.agregarpeso(2)\n",
    "per.agregarpeso(-2)\n",
    "per.agregarbais(-1)\n",
    "x=[0,1]\n",
    "per.entrenar(x,6)\n",
    "print(per.out)"
   ]
  },
  {
   "cell_type": "code",
   "execution_count": 48,
   "metadata": {},
   "outputs": [
    {
     "data": {
      "image/png": "[encoded data removed]",
      "text/plain": [
       "<matplotlib.figure.Figure at 0x7f6b3f2d2da0>"
      ]
     },
     "metadata": {},
     "output_type": "display_data"
    }
   ],
   "source": [
    "from matplotlib import pyplot\n",
    "import random \n",
    "xtrain=[]\n",
    "fxtrain=[]\n",
    "ytrain=[]\n",
    "train=[]\n",
    "def f1(x):\n",
    "    return 3*x+1\n",
    "for z in range(100):\n",
    "    xtrain.append(random.uniform(-3,3))\n",
    "    \n",
    "for z in range(100):\n",
    "     ytrain.append(random.uniform(-3,3))\n",
    "\n",
    "i=0\n",
    "for z in range(100):\n",
    "    fxtrain.append(f1(xtrain[i]))\n",
    "    i=i+1\n",
    "i=0\n",
    "for z in ytrain:\n",
    "    if z>=fxtrain[i]:\n",
    "        train.append(1)\n",
    "    else:\n",
    "        train.append(0)\n",
    "    i=i+1\n",
    "\n",
    "\n",
    "per=Perceptron()\n",
    "per.agregarpeso(2)\n",
    "per.agregarpeso(-2)\n",
    "per.agregarbais(-1)\n",
    "i=0\n",
    "for z in range(100):\n",
    "    entrada=[xtrain[i],ytrain[i]]\n",
    "    per.entrenar(entrada,train[i])\n",
    "    i=i+1\n",
    "xtest=[]\n",
    "ytest=[]\n",
    "test=[]\n",
    "i=0\n",
    "for z in range(100):\n",
    "    x = random.uniform(-3,3)\n",
    "    y = random.uniform(-3,3)\n",
    "    per.agregardatos([x,y])\n",
    "    per.run()\n",
    "    if(per.bout==0):\n",
    "        test.append(\"Red\")\n",
    "    else:\n",
    "        test.append(\"Blue\")\n",
    "    xtest.append(x)\n",
    "    ytest.append(y)\n",
    "\n",
    "i=0\n",
    "pyplot.plot(xtrain,fxtrain)\n",
    "for z in xtest:\n",
    "    pyplot.scatter(z,ytest[i],color=test[i])\n",
    "    i=i+1\n",
    "\n",
    "pyplot.show()"
   ]
  },
  {
   "cell_type": "markdown",
   "metadata": {},
   "source": [
    "Implementación del perceptron or:"
   ]
  },
  {
   "cell_type": "code",
   "execution_count": 15,
   "metadata": {},
   "outputs": [
    {
     "name": "stdout",
     "output_type": "stream",
     "text": [
      "0 or 0 =  False\n",
      "1 or 0 =  True\n",
      "0 or 1 =  True\n",
      "1 or 1 =  True\n"
     ]
    }
   ],
   "source": [
    "oor = Perceptron()\n",
    "oor.agregarpeso(2)\n",
    "oor.agregarpeso(2)\n",
    "oor.agregardato(0)\n",
    "oor.agregardato(0)\n",
    "oor.agregarbais(-1)\n",
    "oor.run()\n",
    "print (\"0 or 0 = \",oor.resp())\n",
    "oor.vaciardatos()\n",
    "oor.agregardato(1)\n",
    "oor.agregardato(0)\n",
    "oor.run()\n",
    "print (\"1 or 0 = \",oor.resp())\n",
    "oor.vaciardatos()\n",
    "oor.agregardato(0)\n",
    "oor.agregardato(1)\n",
    "oor.run()\n",
    "print (\"0 or 1 = \",oor.resp())\n",
    "oor.vaciardatos()\n",
    "oor.agregardato(1)\n",
    "oor.agregardato(1)\n",
    "oor.run()\n",
    "print (\"1 or 1 = \",oor.resp())"
   ]
  },
  {
   "cell_type": "markdown",
   "metadata": {},
   "source": [
    "Implementación  Perceptron and:"
   ]
  },
  {
   "cell_type": "code",
   "execution_count": 20,
   "metadata": {},
   "outputs": [
    {
     "name": "stdout",
     "output_type": "stream",
     "text": [
      "0 and 0 =  False\n",
      "0 and 1 =  False\n",
      "1 and 0 =  False\n",
      "1 and 1 =  True\n"
     ]
    }
   ],
   "source": [
    "ann= Perceptron()\n",
    "ann.agregarpeso(2)\n",
    "ann.agregarpeso(2)\n",
    "ann.agregarbais(-3)\n",
    "ann.agregardato(0)\n",
    "ann.agregardato(0)\n",
    "ann.run()\n",
    "print(\"0 and 0 = \",ann.resp() )\n",
    "ann.vaciardatos()\n",
    "ann.agregardato(0)\n",
    "ann.agregardato(1)\n",
    "ann.run()\n",
    "print(\"0 and 1 = \",ann.resp() )\n",
    "ann.vaciardatos()\n",
    "ann.agregardato(1)\n",
    "ann.agregardato(0)\n",
    "ann.run()\n",
    "print(\"1 and 0 = \",ann.resp() )\n",
    "ann.vaciardatos()\n",
    "ann.agregardato(1)\n",
    "ann.agregardato(1)\n",
    "ann.run()\n",
    "print(\"1 and 1 = \",ann.resp() )"
   ]
  },
  {
   "cell_type": "markdown",
   "metadata": {},
   "source": [
    "Implementación del perceptron nand"
   ]
  },
  {
   "cell_type": "code",
   "execution_count": 21,
   "metadata": {},
   "outputs": [
    {
     "name": "stdout",
     "output_type": "stream",
     "text": [
      "0 nand 0 =  True\n",
      "0 nand 1 =  True\n",
      "1 nand 0 =  True\n",
      "1 nand 1 =  False\n"
     ]
    }
   ],
   "source": [
    "ann= Perceptron()\n",
    "ann.agregarpeso(-2)\n",
    "ann.agregarpeso(-2)\n",
    "ann.agregarbais(3)\n",
    "ann.agregardato(0)\n",
    "ann.agregardato(0)\n",
    "ann.run()\n",
    "print(\"0 nand 0 = \",ann.resp() )\n",
    "ann.vaciardatos()\n",
    "ann.agregardato(0)\n",
    "ann.agregardato(1)\n",
    "ann.run()\n",
    "print(\"0 nand 1 = \",ann.resp() )\n",
    "ann.vaciardatos()\n",
    "ann.agregardato(1)\n",
    "ann.agregardato(0)\n",
    "ann.run()\n",
    "print(\"1 nand 0 = \",ann.resp() )\n",
    "ann.vaciardatos()\n",
    "ann.agregardato(1)\n",
    "ann.agregardato(1)\n",
    "ann.run()\n",
    "print(\"1 nand 1 = \",ann.resp() )"
   ]
  },
  {
   "cell_type": "markdown",
   "metadata": {},
   "source": [
    "Implementación de not"
   ]
  },
  {
   "cell_type": "code",
   "execution_count": 25,
   "metadata": {},
   "outputs": [
    {
     "name": "stdout",
     "output_type": "stream",
     "text": [
      "not de 1 False\n",
      "not de 0 True\n"
     ]
    }
   ],
   "source": [
    "noot= Perceptron()\n",
    "noot.agregarpeso(-1)\n",
    "noot.agregarbais(1)\n",
    "noot.agregardato(1)\n",
    "noot.run()\n",
    "print(\"not de 1\",noot.resp())\n",
    "noot.vaciardatos()\n",
    "noot.agregardato(0)\n",
    "noot.run()\n",
    "print(\"not de 0\",noot.resp())"
   ]
  },
  {
   "cell_type": "code",
   "execution_count": null,
   "metadata": {
    "collapsed": true
   },
   "outputs": [],
   "source": []
  }
 ],
 "metadata": {
  "kernelspec": {
   "display_name": "Python 3",
   "language": "python",
   "name": "python3"
  },
  "language_info": {
   "codemirror_mode": {
    "name": "ipython",
    "version": 3
   },
   "file_extension": ".py",
   "mimetype": "text/x-python",
   "name": "python",
   "nbconvert_exporter": "python",
   "pygments_lexer": "ipython3",
   "version": "3.6.1"
  }
 },
 "nbformat": 4,
 "nbformat_minor": 2
}
