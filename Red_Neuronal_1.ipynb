{
 "cells": [
  {
   "cell_type": "code",
   "execution_count": 1,
   "metadata": {
    "collapsed": true
   },
   "outputs": [],
   "source": [
    "import numpy as np\n",
    "import math\n",
    "#\"\"\" Clase que representa la capa de un perceptron sigmoide\"\"\"\n",
    "class Perceptron: \n",
    "    def __init__(self):\n",
    "        self.pesos= [] # \"\"\"Arreglo donde se guardan los pesos\"\"\"\n",
    "        self.datos=[]  #\"\"\" Arreglo donde se guardan los inputs\"\"\"\n",
    "        self.b=0  #\"\"\"Este valor representa el bais\"\"\"\n",
    "        self.out=0 #\"\"\" Este valor represente el output del sigmoide\"\"\"\n",
    "        self.error=0 #\"\"\" El error \"\"\"\n",
    "        self.delta=0  #\"\"\" El delta\"\"\"\n",
    "        self.lr=0.1 #\"\"\" El learning rata\"\"\"\n",
    "        self.bout=0  # \"\"\"Este valor represente en binario el output, por si se necesita\"\"\"\n",
    "    \n",
    "   # \"\"\" Método para agregar el learning rate\"\"\"\n",
    "    def agregarlr(self,valor):\n",
    "        self.lr=valor\n",
    "    #\"\"\" Agregar pesos\"\"\"\n",
    "    def agregarpeso(self,peso):\n",
    "        self.pesos.append(peso)\n",
    "    #\"\"\" Agregar los inputs\"\"\"    \n",
    "    def agregardato(self,dato):\n",
    "        self.datos.append(dato)\n",
    "    #\"\"\" Agregar bais\"\"\"    \n",
    "    def agregarbais(self,bais):\n",
    "        self.b=bais\n",
    "     #\"\"\"Agregar erro, este se utiliza si este perectron está en la última capa \"\"\"\"\n",
    "      #   \"\"\"ya que aquí el erro es la resta del output con el output esperado \"\"\"   \n",
    "    def agregarerror(self,valor):\n",
    "        self.error=valor\n",
    "   # \"\"\" Calcular el output del sigmoide, ya debe estar ingresados lo datos y los pesos\"\"\"\n",
    "    def run(self):\n",
    "        ps=np.array(self.pesos)\n",
    "        dt=np.array(self.datos)\n",
    "        x= ps*dt\n",
    "        suma=x.sum()\n",
    "        exponente = -1*(suma+self.b)\n",
    "        #denominador= np.float128(2.0)\n",
    "        denominador = 1 + np.exp(exponente)\n",
    "        self.out=1/denominador\n",
    "        if self.out>=0.5: #\"\"\"Criterio para calcular el output binario\"\"\"\n",
    "            self.bout=1\n",
    "        else:\n",
    "            self.bout=0\n",
    "    #\"\"\"Agregar datos\"\"\"\n",
    "    def agregardatos(self,dats):\n",
    "        self.datos=dats\n",
    "     #\"\"\"Vaciar datos\"\"\"   \n",
    "    def vaciardatos(self):\n",
    "        self.datos=[]\n",
    "        \n",
    "    #\"\"\"Calcular error, ingresando los delta de la capa siguiente\"\"\"\n",
    "    def calcularerror(self,deltasnextcapa,pesosnextcapa):\n",
    "        ps=np.array(pesosnextcapa)\n",
    "        delt=np.array(deltasnextcapa)\n",
    "        \n",
    "        mult=ps*delt\n",
    "        self.error=mult.sum()\n",
    "    #\"\"\"Calcular de\"\"\"    \n",
    "    def calculardelta(self):\n",
    "        self.delta=self.error*(self.out*(1-self.out))\n",
    "        \n",
    "    def ajustarpesos(self):\n",
    "        nuevospesos=[]\n",
    "        x=0\n",
    "        for peso in self.pesos:\n",
    "            nuevospesos.append(peso+(self.lr*self.delta*self.datos[x]))\n",
    "            x=x+1\n",
    "        self.pesos=nuevospesos\n",
    "        self.b=self.b + self.lr*self.delta    "
   ]
  },
  {
   "cell_type": "code",
   "execution_count": 2,
   "metadata": {
    "collapsed": true
   },
   "outputs": [],
   "source": [
    "class Capa:\n",
    "    #\"\"\"Clase que representa una capa de red neuronal\"\"\"\n",
    "    def __init__(self):\n",
    "        self.perceptrones=[] #\"\"\"Arreglo con los pereceptrones\"\"\"\n",
    "        self.input=[] #\"\"\"Inputs que se le pasaran a  los pereceptrones \"\"\"\n",
    "        self.output=[] # \"\"\"Outputs que regresaran los perceptrones\"\"\"\n",
    "        self.deltas=[]  #\"\"\"Deltas de cada uno de los perceptrones \"\"\"\n",
    "        self.siguientecapa = None # \"\"\"Siguiente capa\"\"\"\n",
    "        self.anteriorcapa =None  # \"\"\"Capa anterior\"\"\"\n",
    "        self.boutput=[]\n",
    "        self.pesos=[]  #Arreglo que guarda los pesos de cada perceptron, arreglo de arreglos\n",
    "    def getnextcapa(self, capa):\n",
    "        self.siguientecapa = capa\n",
    "    \n",
    "    def getpreviouscapa(self,capa):\n",
    "        self.anteriorcapa = capa\n",
    "   # \"\"\"Agregar inputs\"\"\"\n",
    "    def getinput(self,datos):\n",
    "        self.input=datos\n",
    "    # Agregar perceptron individual\n",
    "    def getperceptron(self, perceptron):\n",
    "        self.perceptrones.append(perceptron)\n",
    "        self.pesos.append(perceptron.pesos)\n",
    "   \n",
    "    #Cargar los pesos de los perceptrones\n",
    "    def cargarpesos(self):\n",
    "        pesos=[]\n",
    "        for per in self.perceptrones:\n",
    "            pesos.append(per.pesos)\n",
    "        self.pesos=pesos\n",
    "    # Agregar perceptrones arreglo     \n",
    "    def getperceptrones(self, arreglo):\n",
    "        self.perceptrones=arreglo\n",
    "        pesos=[]\n",
    "        for per in arreglo:\n",
    "            pesos.append(per.pesos)\n",
    "        self.pesos=pesos\n",
    "        \n",
    "   #\"\"\"Recorrido para calcular output \"\"\"\n",
    "    def Feeding(self):\n",
    "        self.output=[]\n",
    "        self.boutput=[]\n",
    "        for perc in self.perceptrones: #\"\"\"Cada perceptron recibe los datos y su respuestas son cargadas al outputs\"\"\"\n",
    "            perc.agregardatos(self.input)\n",
    "            perc.run()\n",
    "            self.output.append(perc.out)\n",
    "            self.boutput.append(perc.bout)\n",
    "        if self.siguientecapa != None: #\"\"\"Si no es la última capa, se pasá mi output como input de la siguiente capa\"\"\"\n",
    "            self.siguientecapa.getinput(self.output)\n",
    "            self.siguientecapa.Feeding()\n",
    "    \n",
    "   #Método backprogation para la última cap, recibe un arreglo con los output esperados\n",
    "\n",
    "    def backpropagation(self, expectoutput):\n",
    "        self.deltas=[] #Vaciamo los deltas\n",
    "        x=0\n",
    "        for perc in self.perceptrones:\n",
    "            perc.agregarerror(expectoutput[x]-perc.out)# \"\"\"Cada pereceptron recibe su error\"\"\"\n",
    "            perc.calculardelta()#\"\"\"Cada perceptron calcula su delta\"\"\"\n",
    "            self.deltas.append(perc.delta) #\"\"\"Se agregan a los delta de la capaa \"\"\"\n",
    "            x=x+1\n",
    "        self.anteriorcapa.backpropagation1(self.deltas,self.pesos) #Backpropagation para otreas capas. \n",
    "        #Despues se propaga el error, comenzamos a ajustar los pesos.\n",
    "        for perc in self.perceptrones:\n",
    "            perc.ajustarpesos()\n",
    "        self.cargarpesos()\n",
    "    #Métod backpropagation para capas distan a las final,recibe los deltas y pesos de la sigueinte capa.     \n",
    "    def backpropagation1(self,deltas,pesos):\n",
    "        self.deltas=[] #Vaciamos los deltas\n",
    "        x=0\n",
    "        for perc in self.perceptrones:\n",
    "            pecorres=[] #Pesos correspondientes para un perceptron específico\n",
    "            for pp in pesos: #pp es un arreglo con los pesos de un perceptron de la capa siguiente\n",
    "                pecorres=pp[x]     #Sacamos nuestro peso correspondiente de ese perceotron\n",
    "            perc.calcularerror(deltas,pecorres) # El perecptron calcula el erro\n",
    "            perc.calculardelta() # El perceptron calcula el delta.\n",
    "            self.deltas.append(perc.delta) #Agregamos el delta al arreglo de la capa\n",
    "            x=x+1\n",
    "        if(self.anteriorcapa==None): #Si es la primera capa, detemos la propagación\n",
    "            for perc in self.perceptrones: \n",
    "                perc.ajustarpesos() # Paso 3 de el backpropagation, ajustamos los pesos\n",
    "            self.cargarpesos() #Cargamos lo pesos al arreglo de la capa\n",
    "        else:\n",
    "            self.anteriorcapa.backpropagation1(self.deltas,self.pesos) #Seguimos con la propagación\n",
    "            for perc in self.perceptrones:\n",
    "                perc.ajustarpesos() #Al terminar la propagación ajustamos los pesos.\n",
    "            self.cargarpesos()\n",
    "        \n",
    "        "
   ]
  },
  {
   "cell_type": "code",
   "execution_count": 3,
   "metadata": {
    "collapsed": true
   },
   "outputs": [],
   "source": [
    "import random\n",
    "class Fabrica:\n",
    "    def __init__(self):\n",
    "        self.lr=0.1 #learning range con el que se crearn los perceptrones\n",
    "        self.bais=-1 #bais con el que se crearan los peceptrones\n",
    "        \n",
    "    def getlr(self,valor):\n",
    "        self.lr=valor\n",
    "        \n",
    "    def getbais(self,valor):\n",
    "        self.bais=valor\n",
    "    #Método que crea un perecpetron con cantidad especifica de pesos   \n",
    "    def crearPerceptron(self,cantPesos):\n",
    "        per= Perceptron()\n",
    "        for x in range(cantPesos):\n",
    "            per.agregarpeso(random.uniform(-2,2))\n",
    "        per.agregarlr(self.lr)\n",
    "        per.agregarbais(self.bais)\n",
    "        return per\n",
    "    #Método que crea una capa con una cantidad especifica de perceptrones y pesos.\n",
    "    def crearCapa(self, cantPer, cantPesos):\n",
    "        cap= Capa()\n",
    "        for x in range(cantPer):\n",
    "            cap.getperceptron(self.crearPerceptron(cantPesos))\n",
    "        return cap    \n",
    "    \n",
    "    "
   ]
  },
  {
   "cell_type": "code",
   "execution_count": 4,
   "metadata": {
    "collapsed": true
   },
   "outputs": [],
   "source": [
    "class Red_Neuronal:\n",
    "    def __init__(self):\n",
    "        self.capinicial=None #Capa inicial \n",
    "        self.capintemedias=[] #Arreglo donde se guardaran las capas intemedias, deben ser ingresadas en orden.\n",
    "        self.capfinal=None\n",
    "    #Se agrega la capa incial a la red neuronal, se asume que esta tiene los perceptrones y pesos correctos.\n",
    "    def getcapinicial(self,capa):\n",
    "        self.capinicial=capa\n",
    "    #Agregar capa final.\n",
    "    def getcapfinal(self, capa):\n",
    "        self.capfinal= capa\n",
    "    #Agregar una capa intemedia, se debe agregar en orden\n",
    "    def getcapaintermedia(self, capa):\n",
    "        self.capintemedias.append(capa)\n",
    "    #Método para que cada capa reciba su capa anterior y su capa siguiente    \n",
    "    def enlazar(self):\n",
    "        if len(self.capintemedias)==0: #Si no hay capas intermedias\n",
    "            self.capinicial.getnextcapa(self.capfinal)   #Se enlazan la primera con la última\n",
    "            self.capfinal.getpreviouscapa(self.capinicial)\n",
    "        else:  #Si hay capas intemedias\n",
    "            x=0\n",
    "            self.capinicial.getnextcapa(self.capintemedias[x]) #Se enlaza la capa inicial, con la primera capa del arreglo\n",
    "            while x<(len(self.capintemedias)-1):\n",
    "                self.capintemedias[x].getnextcapa(self.capintemedias[x+1]) #Se enlaza cada capa, con su siguiente\n",
    "                x=x+1\n",
    "            x=len(self.capintemedias)-1\n",
    "            while x>0:\n",
    "                self.capintemedias[x].getpreviouscapa(self.capintemedias[x-1])#Se enlaza cada capa, con la anterior\n",
    "                x=x-1\n",
    "            x=len(self.capintemedias)-1\n",
    "            self.capfinal.getpreviouscapa(self.capintemedias[x]) #Se enlza la  útima capa del arrglo, con la capa final\n",
    "            self.capintemedias[x].getnextcapa(self.capfinal)\n",
    "    \n",
    "    def comparador(self,conjunto1,conjunto2):\n",
    "        x=1\n",
    "        i=0\n",
    "        for z in conjunto1:\n",
    "            if(z!=conjunto2[i]):\n",
    "                x=0\n",
    "                return x\n",
    "            i=i+1\n",
    "        return x\n",
    "    \n",
    "    #Método para entrenar, devuelve los errores\n",
    "    def entrenar(self,settrain,num, settest):\n",
    "        inputrain=settrain[0]\n",
    "        outputtrain=settrain[1]\n",
    "        inputtest=settest[0]\n",
    "        outputtest=settest[1]\n",
    "        intentos=[]\n",
    "        resultados=[]\n",
    "        \n",
    "        for x in range(num):\n",
    "            i=0\n",
    "            for tupla in inputrain:\n",
    "                self.capinicial.getinput(tupla)\n",
    "                self.capinicial.Feeding()\n",
    "                self.capfinal.backpropagation(outputtrain[i])\n",
    "                i=i+1\n",
    "            i=0\n",
    "            errores=0\n",
    "            for tupla in inputtest:\n",
    "                self.capinicial.getinput(tupla)\n",
    "                self.capinicial.Feeding()\n",
    "                if self.comparador(self.capfinal.boutput,outputtest[i])==0:\n",
    "                    errores=errores+1\n",
    "                i=i+1\n",
    "            resultados.append(errores)\n",
    "            intentos.append(x+1)\n",
    "        return [intentos,resultados]"
   ]
  },
  {
   "cell_type": "code",
   "execution_count": 5,
   "metadata": {},
   "outputs": [
    {
     "data": {
      "image/png": "[encoded data removed]",
      "text/plain": [
       "<matplotlib.figure.Figure at 0x7f4a1b59a668>"
      ]
     },
     "metadata": {},
     "output_type": "display_data"
    }
   ],
   "source": [
    "from matplotlib import pyplot\n",
    "fabri = Fabrica()\n",
    "capa1 = fabri.crearCapa(2,2)\n",
    "capa3 = fabri.crearCapa(1,2)\n",
    "\n",
    "red1= Red_Neuronal()\n",
    "red1.getcapinicial(capa1)\n",
    "red1.getcapfinal(capa3)\n",
    "red1.enlazar()\n",
    "\n",
    "entrada=[[0,0],[0,1],[1,0],[1,1]]\n",
    "salida = [[0],[1],[1],[0]]\n",
    "entre=[entrada,salida]\n",
    "\n",
    "a = red1.entrenar(entre,5000,entre)\n",
    "b=[]\n",
    "for x in a[1]:\n",
    "    b.append((4-x)/4)\n",
    "pyplot.plot(a[0],b)\n",
    "pyplot.show()"
   ]
  },
  {
   "cell_type": "code",
   "execution_count": 7,
   "metadata": {},
   "outputs": [
    {
     "name": "stdout",
     "output_type": "stream",
     "text": [
      "[0.071893062469609498]\n"
     ]
    }
   ],
   "source": [
    "capa1.getinput([1,1])\n",
    "capa1.Feeding()\n",
    "print(capa3.output)"
   ]
  },
  {
   "cell_type": "code",
   "execution_count": 6,
   "metadata": {},
   "outputs": [
    {
     "name": "stdout",
     "output_type": "stream",
     "text": [
      "OCNTY        40057\n",
      "OCNTYPOP     40057\n",
      "BFACIL3      40057\n",
      "MAGER14      40057\n",
      "MAGER9       40057\n",
      "MRACEHISP    40057\n",
      "MAR          40057\n",
      "MEDUC        40057\n",
      "APGAR5       40057\n",
      "APGAR5R      40057\n",
      "SEX          40057\n",
      "dtype: int64\n"
     ]
    }
   ],
   "source": [
    " import pandas as pd\n",
    " df1=pd.read_csv(\"merge.csv\") #Cargamos datos\n",
    " cnt = df1.count() #Conteo de tuplas \n",
    " print (cnt)"
   ]
  },
  {
   "cell_type": "code",
   "execution_count": 7,
   "metadata": {},
   "outputs": [
    {
     "data": {
      "text/plain": [
       "8     14026\n",
       "9     10031\n",
       "10     9644\n",
       "15     5171\n",
       "99     1185\n",
       "Name: APGAR5, dtype: int64"
      ]
     },
     "execution_count": 7,
     "metadata": {},
     "output_type": "execute_result"
    }
   ],
   "source": [
    "df1['APGAR5'].value_counts()"
   ]
  },
  {
   "cell_type": "code",
   "execution_count": 8,
   "metadata": {},
   "outputs": [
    {
     "data": {
      "text/plain": [
       "0    21022\n",
       "1    19035\n",
       "Name: SEX, dtype: int64"
      ]
     },
     "execution_count": 8,
     "metadata": {},
     "output_type": "execute_result"
    }
   ],
   "source": [
    "new_map2={'M':0,'F':1} #Cambiamos sexo por un valor númerico \n",
    "df2= df1.copy()\n",
    "df2[\"SEX\"]=df2[\"SEX\"].map(new_map2)\n",
    "df2['SEX'].value_counts()"
   ]
  },
  {
   "cell_type": "code",
   "execution_count": 9,
   "metadata": {},
   "outputs": [
    {
     "data": {
      "text/plain": [
       "1    28311\n",
       "3      121\n",
       "2       39\n",
       "Name: BFACIL3, dtype: int64"
      ]
     },
     "execution_count": 9,
     "metadata": {},
     "output_type": "execute_result"
    }
   ],
   "source": [
    "df3=df2[(df2['APGAR5'] != 99)] #No tomamos los casos 99: no se determino el apgar, o no se sabe.\n",
    "df4=df3[(df3['OCNTY'] != 999)]\n",
    "df4['BFACIL3'].value_counts()\n"
   ]
  },
  {
   "cell_type": "code",
   "execution_count": 10,
   "metadata": {},
   "outputs": [
    {
     "name": "stdout",
     "output_type": "stream",
     "text": [
      "OCNTY        28471\n",
      "OCNTYPOP     28471\n",
      "BFACIL3      28471\n",
      "MAGER14      28471\n",
      "MAGER9       28471\n",
      "MRACEHISP    28471\n",
      "MAR          28471\n",
      "MEDUC        28471\n",
      "APGAR5       28471\n",
      "APGAR5R      28471\n",
      "SEX          28471\n",
      "dtype: int64\n",
      "0     28471\n",
      "1     28471\n",
      "2     28471\n",
      "3     28471\n",
      "4     28471\n",
      "5     28471\n",
      "6     28471\n",
      "7     28471\n",
      "8     28471\n",
      "9     28471\n",
      "10    28471\n",
      "dtype: int64\n"
     ]
    },
    {
     "name": "stderr",
     "output_type": "stream",
     "text": [
      "/home/marco/anaconda2/envs/py36/lib/python3.6/site-packages/sklearn/utils/validation.py:429: DataConversionWarning: Data with input dtype int64 was converted to float64 by MinMaxScaler.\n",
      "  warnings.warn(msg, _DataConversionWarning)\n"
     ]
    }
   ],
   "source": [
    "from sklearn import preprocessing\n",
    "x = df4.values\n",
    "min_max_scaler = preprocessing.MinMaxScaler()\n",
    "x_scaled = min_max_scaler.fit_transform(x)\n",
    "df = pd.DataFrame(x_scaled)\n",
    "print(df4.count())\n",
    "print(df.count())"
   ]
  },
  {
   "cell_type": "code",
   "execution_count": 24,
   "metadata": {},
   "outputs": [
    {
     "name": "stdout",
     "output_type": "stream",
     "text": [
      "       OCNTY  OCNTYPOP  BFACIL3  MAGER14  MAGER9  MRACEHISP  MAR  MEDUC  \\\n",
      "1        127         2        1       11       6          2    1      4   \n",
      "2        127         2        1        9       4          2    1      6   \n",
      "3        127         2        1       10       5          2    2      3   \n",
      "4        127         2        1        8       3          2    2      3   \n",
      "5        113         3        1       10       5          2    1      6   \n",
      "7        127         2        1        9       4          2    1      4   \n",
      "10       113         3        1        9       4          2    2      5   \n",
      "11       127         2        1       10       5          2    2      6   \n",
      "12       127         2        1        9       4          7    2      3   \n",
      "13       127         2        1       10       5          2    1      4   \n",
      "15       113         3        1       10       5          2    1      6   \n",
      "16       113         3        1        9       4          2    1      3   \n",
      "17       127         2        1       10       5          2    1      3   \n",
      "21       113         3        1       11       6          2    1      6   \n",
      "23       127         2        1       10       5          2    1      6   \n",
      "24       127         2        1       10       5          2    1      6   \n",
      "25       127         2        1        8       3          2    2      3   \n",
      "26       127         2        1        8       3          2    2      3   \n",
      "27       127         2        1        7       2          2    2      3   \n",
      "28       127         2        1        9       4          2    1      6   \n",
      "32       113         3        1        9       4          2    1      4   \n",
      "33        31         3        1        6       2          2    2      2   \n",
      "34       113         3        1        8       3          2    2      5   \n",
      "35       113         3        1        8       3          2    2      3   \n",
      "36        21         3        1        9       4          2    1      3   \n",
      "37       113         3        1        8       3          2    1      6   \n",
      "38       127         2        1        5       2          2    1      2   \n",
      "43        25         3        1        8       3          2    1      5   \n",
      "44        25         3        1       10       5          2    1      3   \n",
      "45       127         2        1        5       2          4    2      2   \n",
      "...      ...       ...      ...      ...     ...        ...  ...    ...   \n",
      "40020     97         3        1        8       3          2    2      2   \n",
      "40021    127         2        1        5       2          2    2      2   \n",
      "40023    127         2        1        8       3          2    1      3   \n",
      "40024    127         2        1       11       6          6    2      2   \n",
      "40025    127         2        1        9       4          2    1      3   \n",
      "40026    127         2        1        9       4          2    2      1   \n",
      "40027    113         3        1        7       2          2    2      3   \n",
      "40028    127         2        1        4       2          2    2      2   \n",
      "40032    127         2        1        9       4          2    2      2   \n",
      "40033    127         2        1       11       6          2    1      6   \n",
      "40034     97         3        1        9       4          2    2      1   \n",
      "40035    127         2        1        8       3          2    2      2   \n",
      "40036     21         3        1        8       3          2    2      2   \n",
      "40037     31         3        1        5       2          2    2      2   \n",
      "40038    127         2        1        4       2          2    2      1   \n",
      "40039    127         2        1        6       2          2    2      2   \n",
      "40040    127         2        1        3       2          2    2      3   \n",
      "40041    127         2        1        9       4          2    2      3   \n",
      "40042     97         3        1       11       6          2    2      2   \n",
      "40043     21         3        1        9       4          5    1      2   \n",
      "40044     31         3        1        9       4          2    2      2   \n",
      "40047    127         2        1        8       3          6    1      1   \n",
      "40049    127         2        1        7       2          2    2      1   \n",
      "40050    127         2        1        8       3          2    2      3   \n",
      "40051    127         2        1       10       5          6    1      3   \n",
      "40052    127         2        1        5       2          6    2      2   \n",
      "40053    127         2        1        4       2          2    2      1   \n",
      "40054    127         2        1        8       3          2    2      2   \n",
      "40055     31         3        1       10       5          2    2      6   \n",
      "40056    127         2        1        8       3          2    1      2   \n",
      "\n",
      "       APGAR5  APGAR5R  SEX  \n",
      "1          15        3    0  \n",
      "2          10        4    0  \n",
      "3           8        3    1  \n",
      "4           8        3    1  \n",
      "5           8        3    0  \n",
      "7          10        4    1  \n",
      "10         10        4    1  \n",
      "11         10        4    0  \n",
      "12         10        4    0  \n",
      "13         15        3    1  \n",
      "15         10        4    0  \n",
      "16          8        3    0  \n",
      "17          8        3    0  \n",
      "21         15        3    0  \n",
      "23          8        3    0  \n",
      "24          8        3    0  \n",
      "25          8        3    0  \n",
      "26         15        2    1  \n",
      "27         15        1    1  \n",
      "28         10        4    1  \n",
      "32          8        3    0  \n",
      "33         15        3    0  \n",
      "34         15        3    0  \n",
      "35         10        4    0  \n",
      "36          8        3    1  \n",
      "37         15        3    0  \n",
      "38         10        4    0  \n",
      "43         15        3    0  \n",
      "44          8        3    1  \n",
      "45         10        4    1  \n",
      "...       ...      ...  ...  \n",
      "40020       9        4    1  \n",
      "40021       9        4    0  \n",
      "40023       9        4    1  \n",
      "40024       9        4    1  \n",
      "40025       9        4    0  \n",
      "40026       9        4    1  \n",
      "40027       9        4    1  \n",
      "40028       9        4    0  \n",
      "40032       9        4    0  \n",
      "40033       9        4    1  \n",
      "40034       9        4    0  \n",
      "40035       9        4    0  \n",
      "40036       9        4    1  \n",
      "40037       9        4    1  \n",
      "40038       9        4    0  \n",
      "40039       9        4    1  \n",
      "40040       9        4    1  \n",
      "40041       9        4    1  \n",
      "40042       9        4    1  \n",
      "40043       9        4    1  \n",
      "40044       9        4    0  \n",
      "40047       9        4    1  \n",
      "40049       9        4    0  \n",
      "40050       9        4    1  \n",
      "40051       9        4    1  \n",
      "40052       9        4    0  \n",
      "40053       9        4    1  \n",
      "40054       9        4    0  \n",
      "40055       9        4    1  \n",
      "40056       9        4    1  \n",
      "\n",
      "[28471 rows x 11 columns]\n"
     ]
    }
   ],
   "source": [
    "print(df4)"
   ]
  },
  {
   "cell_type": "code",
   "execution_count": 26,
   "metadata": {},
   "outputs": [
    {
     "name": "stdout",
     "output_type": "stream",
     "text": [
      "             0    1    2         3      4      5    6      7         8   \\\n",
      "0      1.000000  0.0  0.0  0.769231  0.625  0.125  0.0  0.375  1.000000   \n",
      "1      1.000000  0.0  0.0  0.615385  0.375  0.125  0.0  0.625  0.285714   \n",
      "2      1.000000  0.0  0.0  0.692308  0.500  0.125  1.0  0.250  0.000000   \n",
      "3      1.000000  0.0  0.0  0.538462  0.250  0.125  1.0  0.250  0.000000   \n",
      "4      0.867925  1.0  0.0  0.692308  0.500  0.125  0.0  0.625  0.000000   \n",
      "5      1.000000  0.0  0.0  0.615385  0.375  0.125  0.0  0.375  0.285714   \n",
      "6      0.867925  1.0  0.0  0.615385  0.375  0.125  1.0  0.500  0.285714   \n",
      "7      1.000000  0.0  0.0  0.692308  0.500  0.125  1.0  0.625  0.285714   \n",
      "8      1.000000  0.0  0.0  0.615385  0.375  0.750  1.0  0.250  0.285714   \n",
      "9      1.000000  0.0  0.0  0.692308  0.500  0.125  0.0  0.375  1.000000   \n",
      "10     0.867925  1.0  0.0  0.692308  0.500  0.125  0.0  0.625  0.285714   \n",
      "11     0.867925  1.0  0.0  0.615385  0.375  0.125  0.0  0.250  0.000000   \n",
      "12     1.000000  0.0  0.0  0.692308  0.500  0.125  0.0  0.250  0.000000   \n",
      "13     0.867925  1.0  0.0  0.769231  0.625  0.125  0.0  0.625  1.000000   \n",
      "14     1.000000  0.0  0.0  0.692308  0.500  0.125  0.0  0.625  0.000000   \n",
      "15     1.000000  0.0  0.0  0.692308  0.500  0.125  0.0  0.625  0.000000   \n",
      "16     1.000000  0.0  0.0  0.538462  0.250  0.125  1.0  0.250  0.000000   \n",
      "17     1.000000  0.0  0.0  0.538462  0.250  0.125  1.0  0.250  1.000000   \n",
      "18     1.000000  0.0  0.0  0.461538  0.125  0.125  1.0  0.250  1.000000   \n",
      "19     1.000000  0.0  0.0  0.615385  0.375  0.125  0.0  0.625  0.285714   \n",
      "20     0.867925  1.0  0.0  0.615385  0.375  0.125  0.0  0.375  0.000000   \n",
      "21     0.094340  1.0  0.0  0.384615  0.125  0.125  1.0  0.125  1.000000   \n",
      "22     0.867925  1.0  0.0  0.538462  0.250  0.125  1.0  0.500  1.000000   \n",
      "23     0.867925  1.0  0.0  0.538462  0.250  0.125  1.0  0.250  0.285714   \n",
      "24     0.000000  1.0  0.0  0.615385  0.375  0.125  0.0  0.250  0.000000   \n",
      "25     0.867925  1.0  0.0  0.538462  0.250  0.125  0.0  0.625  1.000000   \n",
      "26     1.000000  0.0  0.0  0.307692  0.125  0.125  0.0  0.125  0.285714   \n",
      "27     0.037736  1.0  0.0  0.538462  0.250  0.125  0.0  0.500  1.000000   \n",
      "28     0.037736  1.0  0.0  0.692308  0.500  0.125  0.0  0.250  0.000000   \n",
      "29     1.000000  0.0  0.0  0.307692  0.125  0.375  1.0  0.125  0.285714   \n",
      "...         ...  ...  ...       ...    ...    ...  ...    ...       ...   \n",
      "28441  0.716981  1.0  0.0  0.538462  0.250  0.125  1.0  0.125  0.142857   \n",
      "28442  1.000000  0.0  0.0  0.307692  0.125  0.125  1.0  0.125  0.142857   \n",
      "28443  1.000000  0.0  0.0  0.538462  0.250  0.125  0.0  0.250  0.142857   \n",
      "28444  1.000000  0.0  0.0  0.769231  0.625  0.625  1.0  0.125  0.142857   \n",
      "28445  1.000000  0.0  0.0  0.615385  0.375  0.125  0.0  0.250  0.142857   \n",
      "28446  1.000000  0.0  0.0  0.615385  0.375  0.125  1.0  0.000  0.142857   \n",
      "28447  0.867925  1.0  0.0  0.461538  0.125  0.125  1.0  0.250  0.142857   \n",
      "28448  1.000000  0.0  0.0  0.230769  0.125  0.125  1.0  0.125  0.142857   \n",
      "28449  1.000000  0.0  0.0  0.615385  0.375  0.125  1.0  0.125  0.142857   \n",
      "28450  1.000000  0.0  0.0  0.769231  0.625  0.125  0.0  0.625  0.142857   \n",
      "28451  0.716981  1.0  0.0  0.615385  0.375  0.125  1.0  0.000  0.142857   \n",
      "28452  1.000000  0.0  0.0  0.538462  0.250  0.125  1.0  0.125  0.142857   \n",
      "28453  0.000000  1.0  0.0  0.538462  0.250  0.125  1.0  0.125  0.142857   \n",
      "28454  0.094340  1.0  0.0  0.307692  0.125  0.125  1.0  0.125  0.142857   \n",
      "28455  1.000000  0.0  0.0  0.230769  0.125  0.125  1.0  0.000  0.142857   \n",
      "28456  1.000000  0.0  0.0  0.384615  0.125  0.125  1.0  0.125  0.142857   \n",
      "28457  1.000000  0.0  0.0  0.153846  0.125  0.125  1.0  0.250  0.142857   \n",
      "28458  1.000000  0.0  0.0  0.615385  0.375  0.125  1.0  0.250  0.142857   \n",
      "28459  0.716981  1.0  0.0  0.769231  0.625  0.125  1.0  0.125  0.142857   \n",
      "28460  0.000000  1.0  0.0  0.615385  0.375  0.500  0.0  0.125  0.142857   \n",
      "28461  0.094340  1.0  0.0  0.615385  0.375  0.125  1.0  0.125  0.142857   \n",
      "28462  1.000000  0.0  0.0  0.538462  0.250  0.625  0.0  0.000  0.142857   \n",
      "28463  1.000000  0.0  0.0  0.461538  0.125  0.125  1.0  0.000  0.142857   \n",
      "28464  1.000000  0.0  0.0  0.538462  0.250  0.125  1.0  0.250  0.142857   \n",
      "28465  1.000000  0.0  0.0  0.692308  0.500  0.625  0.0  0.250  0.142857   \n",
      "28466  1.000000  0.0  0.0  0.307692  0.125  0.625  1.0  0.125  0.142857   \n",
      "28467  1.000000  0.0  0.0  0.230769  0.125  0.125  1.0  0.000  0.142857   \n",
      "28468  1.000000  0.0  0.0  0.538462  0.250  0.125  1.0  0.125  0.142857   \n",
      "28469  0.094340  1.0  0.0  0.692308  0.500  0.125  1.0  0.625  0.142857   \n",
      "28470  1.000000  0.0  0.0  0.538462  0.250  0.125  0.0  0.125  0.142857   \n",
      "\n",
      "             9    10  \n",
      "0      0.666667  0.0  \n",
      "1      1.000000  0.0  \n",
      "2      0.666667  1.0  \n",
      "3      0.666667  1.0  \n",
      "4      0.666667  0.0  \n",
      "5      1.000000  1.0  \n",
      "6      1.000000  1.0  \n",
      "7      1.000000  0.0  \n",
      "8      1.000000  0.0  \n",
      "9      0.666667  1.0  \n",
      "10     1.000000  0.0  \n",
      "11     0.666667  0.0  \n",
      "12     0.666667  0.0  \n",
      "13     0.666667  0.0  \n",
      "14     0.666667  0.0  \n",
      "15     0.666667  0.0  \n",
      "16     0.666667  0.0  \n",
      "17     0.333333  1.0  \n",
      "18     0.000000  1.0  \n",
      "19     1.000000  1.0  \n",
      "20     0.666667  0.0  \n",
      "21     0.666667  0.0  \n",
      "22     0.666667  0.0  \n",
      "23     1.000000  0.0  \n",
      "24     0.666667  1.0  \n",
      "25     0.666667  0.0  \n",
      "26     1.000000  0.0  \n",
      "27     0.666667  0.0  \n",
      "28     0.666667  1.0  \n",
      "29     1.000000  1.0  \n",
      "...         ...  ...  \n",
      "28441  1.000000  1.0  \n",
      "28442  1.000000  0.0  \n",
      "28443  1.000000  1.0  \n",
      "28444  1.000000  1.0  \n",
      "28445  1.000000  0.0  \n",
      "28446  1.000000  1.0  \n",
      "28447  1.000000  1.0  \n",
      "28448  1.000000  0.0  \n",
      "28449  1.000000  0.0  \n",
      "28450  1.000000  1.0  \n",
      "28451  1.000000  0.0  \n",
      "28452  1.000000  0.0  \n",
      "28453  1.000000  1.0  \n",
      "28454  1.000000  1.0  \n",
      "28455  1.000000  0.0  \n",
      "28456  1.000000  1.0  \n",
      "28457  1.000000  1.0  \n",
      "28458  1.000000  1.0  \n",
      "28459  1.000000  1.0  \n",
      "28460  1.000000  1.0  \n",
      "28461  1.000000  0.0  \n",
      "28462  1.000000  1.0  \n",
      "28463  1.000000  0.0  \n",
      "28464  1.000000  1.0  \n",
      "28465  1.000000  1.0  \n",
      "28466  1.000000  0.0  \n",
      "28467  1.000000  1.0  \n",
      "28468  1.000000  0.0  \n",
      "28469  1.000000  1.0  \n",
      "28470  1.000000  1.0  \n",
      "\n",
      "[28471 rows x 11 columns]\n"
     ]
    }
   ],
   "source": [
    "print(df)"
   ]
  },
  {
   "cell_type": "code",
   "execution_count": 11,
   "metadata": {},
   "outputs": [
    {
     "name": "stdout",
     "output_type": "stream",
     "text": [
      "0     28471\n",
      "1     28471\n",
      "2     28471\n",
      "3     28471\n",
      "4     28471\n",
      "5     28471\n",
      "6     28471\n",
      "7     28471\n",
      "10    28471\n",
      "dtype: int64\n",
      "1        15\n",
      "2        10\n",
      "3         8\n",
      "4         8\n",
      "5         8\n",
      "7        10\n",
      "10       10\n",
      "11       10\n",
      "12       10\n",
      "13       15\n",
      "15       10\n",
      "16        8\n",
      "17        8\n",
      "21       15\n",
      "23        8\n",
      "24        8\n",
      "25        8\n",
      "26       15\n",
      "27       15\n",
      "28       10\n",
      "32        8\n",
      "33       15\n",
      "34       15\n",
      "35       10\n",
      "36        8\n",
      "37       15\n",
      "38       10\n",
      "43       15\n",
      "44        8\n",
      "45       10\n",
      "         ..\n",
      "40020     9\n",
      "40021     9\n",
      "40023     9\n",
      "40024     9\n",
      "40025     9\n",
      "40026     9\n",
      "40027     9\n",
      "40028     9\n",
      "40032     9\n",
      "40033     9\n",
      "40034     9\n",
      "40035     9\n",
      "40036     9\n",
      "40037     9\n",
      "40038     9\n",
      "40039     9\n",
      "40040     9\n",
      "40041     9\n",
      "40042     9\n",
      "40043     9\n",
      "40044     9\n",
      "40047     9\n",
      "40049     9\n",
      "40050     9\n",
      "40051     9\n",
      "40052     9\n",
      "40053     9\n",
      "40054     9\n",
      "40055     9\n",
      "40056     9\n",
      "Name: APGAR5, Length: 28471, dtype: int64\n"
     ]
    }
   ],
   "source": [
    "X= df.drop(labels=[8,9],axis=1) #Quitamos los campos objetivos de nuestra predicción\n",
    "Y=  df4.APGAR5\n",
    "print(X.count())\n",
    "print (Y)"
   ]
  },
  {
   "cell_type": "code",
   "execution_count": 12,
   "metadata": {},
   "outputs": [
    {
     "name": "stdout",
     "output_type": "stream",
     "text": [
      "[0.86792452830188671, 1.0, 0.0, 0.69230769230769229, 0.5, 0.125, 1.0, 0.625, 1.0] [0.99999999999999989, 0.0, 0.0, 0.53846153846153855, 0.25, 0.125, 1.0, 0.375, 1.0]\n"
     ]
    }
   ],
   "source": [
    "from sklearn.model_selection import train_test_split\n",
    "X= df.drop(labels=[8,9],axis=1) #Quitamos los campos objetivos de nuestra predicción\n",
    "Y= df4.APGAR5 # Objetivos de nuestra predicción\n",
    "\n",
    "#Sacamos un catidad de datos para testia, y otra para entrenar\n",
    "X_train, X_test, y_train, y_test = train_test_split(X, Y, test_size=.33, random_state=37, stratify=Y) \n",
    "\n",
    "xtrain=[] #Formato que acepta nuestra red, listas\n",
    "xtest=[] \n",
    "for index, row in X_train.iterrows() : #iteramos fila a fila\n",
    "    tupla=[] #\n",
    "    tupla.append(row[0]) #Agregamos cada uno de los campos.\n",
    "    tupla.append(row[1])\n",
    "    tupla.append(row[2])\n",
    "    tupla.append(row[3])\n",
    "    tupla.append(row[4])\n",
    "    tupla.append(row[5])\n",
    "    tupla.append(row[6])\n",
    "    tupla.append(row[7])\n",
    "    tupla.append(row[10])\n",
    "    xtrain.append(tupla)\n",
    "    \n",
    "for index, row in X_test.iterrows() :\n",
    "    tupla=[] #\n",
    "    tupla.append(row[0]) #Agregamos cada uno de los campos.\n",
    "    tupla.append(row[1])\n",
    "    tupla.append(row[2])\n",
    "    tupla.append(row[3])\n",
    "    tupla.append(row[4])\n",
    "    tupla.append(row[5])\n",
    "    tupla.append(row[6])\n",
    "    tupla.append(row[7])\n",
    "    tupla.append(row[10])\n",
    "    xtest.append(tupla)\n",
    "    \n",
    "\n",
    "print(xtrain[100], xtest[100])"
   ]
  },
  {
   "cell_type": "code",
   "execution_count": 13,
   "metadata": {
    "collapsed": true
   },
   "outputs": [],
   "source": [
    "yarreglo=y_train.get_values() #Este solo es un arreglo con los apgar de cada fila correspondiente en el arreglo xtrain.\n",
    "ytrain=[]\n",
    "for x in yarreglo: \n",
    "    if x==8: # Nuestro  out correspondiete, 4 percetrones en la capa final.\n",
    "        ytrain.append([1,0,0,0])\n",
    "    if x==9:\n",
    "        ytrain.append([0,1,0,0])\n",
    "    if x==10:\n",
    "        ytrain.append([0,0,1,0])\n",
    "    if x==15:\n",
    "        ytrain.append([0,0,0,1])\n",
    "\n",
    "yarreglo=y_test.get_values()\n",
    "ytest=[]\n",
    "for x in yarreglo:\n",
    "    if x==8:\n",
    "        ytest.append([1,0,0,0])\n",
    "    if x==9:\n",
    "        ytest.append([0,1,0,0])\n",
    "    if x==10:\n",
    "        ytest.append([0,0,1,0])\n",
    "    if x==15:\n",
    "        ytest.append([0,0,0,1])\n",
    " "
   ]
  },
  {
   "cell_type": "code",
   "execution_count": 14,
   "metadata": {},
   "outputs": [
    {
     "data": {
      "image/png": "[encoded data removed]",
      "text/plain": [
       "<matplotlib.figure.Figure at 0x7f4a1dd44f60>"
      ]
     },
     "metadata": {},
     "output_type": "display_data"
    }
   ],
   "source": [
    "from matplotlib import pyplot\n",
    "fabri = Fabrica()\n",
    "fabri.getlr(0.8)\n",
    "capa1 = fabri.crearCapa(15,9) #Capa 3 pereceptrons 9 pesos cada quien \n",
    "capa2 = fabri.crearCapa(4,15) #Capa 4 perceptrones 3 pesos cada quien\n",
    "\n",
    "red1= Red_Neuronal() \n",
    "red1.getcapinicial(capa1) #Capa incial.\n",
    "red1.getcapfinal(capa2) #Capa final\n",
    "red1.enlazar()\n",
    "\n",
    "train=[xtrain,ytrain]\n",
    "test=[xtest,ytest]\n",
    "\n",
    "a=red1.entrenar(train,100,test)\n",
    "\n",
    "b=[]\n",
    "l= len(xtest)\n",
    "for x in a[1]:\n",
    "    b.append((l-x)/l)\n",
    "pyplot.plot(a[0],b)\n",
    "pyplot.show()"
   ]
  },
  {
   "cell_type": "code",
   "execution_count": 15,
   "metadata": {},
   "outputs": [
    {
     "name": "stdout",
     "output_type": "stream",
     "text": [
      "9361 9396\n"
     ]
    }
   ],
   "source": [
    "print(min(a[1]),l)"
   ]
  },
  {
   "cell_type": "code",
   "execution_count": 16,
   "metadata": {},
   "outputs": [
    {
     "data": {
      "image/png": "[encoded data removed]",
      "text/plain": [
       "<matplotlib.figure.Figure at 0x7f4a0641a860>"
      ]
     },
     "metadata": {},
     "output_type": "display_data"
    }
   ],
   "source": [
    "from matplotlib import pyplot\n",
    "fabri = Fabrica()\n",
    "fabri.getlr(0.8)\n",
    "capa1 = fabri.crearCapa(15,9) #Capa 3 pereceptrons 9 pesos cada quien \n",
    "capa2 = fabri.crearCapa(4,15) #Capa 4 perceptrones 3 pesos cada quien\n",
    "\n",
    "red1= Red_Neuronal() \n",
    "red1.getcapinicial(capa1) #Capa incial.\n",
    "red1.getcapfinal(capa2) #Capa final\n",
    "red1.enlazar()\n",
    "\n",
    "train=[xtrain,ytrain]\n",
    "test=[xtest,ytest]\n",
    "\n",
    "a=red1.entrenar(train,500,test)\n",
    "\n",
    "b=[]\n",
    "l= len(xtest)\n",
    "for x in a[1]:\n",
    "    b.append((l-x)/l)\n",
    "pyplot.plot(a[0],b)\n",
    "pyplot.show()"
   ]
  },
  {
   "cell_type": "code",
   "execution_count": 17,
   "metadata": {},
   "outputs": [
    {
     "name": "stdout",
     "output_type": "stream",
     "text": [
      "9307 9396\n"
     ]
    }
   ],
   "source": [
    "print(min(a[1]),l)"
   ]
  },
  {
   "cell_type": "code",
   "execution_count": 50,
   "metadata": {},
   "outputs": [
    {
     "data": {
      "image/png": "[encoded data removed]",
      "text/plain": [
       "<matplotlib.figure.Figure at 0x7f922742ecf8>"
      ]
     },
     "metadata": {},
     "output_type": "display_data"
    }
   ],
   "source": [
    "a=red1.entrenar(train,100,test)\n",
    "b=[]\n",
    "l= len(xtest)\n",
    "for x in a[1]:\n",
    "    b.append((l-x)/l)\n",
    "pyplot.plot(a[0],b)\n",
    "pyplot.show()"
   ]
  },
  {
   "cell_type": "code",
   "execution_count": 51,
   "metadata": {},
   "outputs": [
    {
     "name": "stdout",
     "output_type": "stream",
     "text": [
      "[[1, 2, 3, 4, 5, 6, 7, 8, 9, 10, 11, 12, 13, 14, 15, 16, 17, 18, 19, 20, 21, 22, 23, 24, 25, 26, 27, 28, 29, 30, 31, 32, 33, 34, 35, 36, 37, 38, 39, 40, 41, 42, 43, 44, 45, 46, 47, 48, 49, 50, 51, 52, 53, 54, 55, 56, 57, 58, 59, 60, 61, 62, 63, 64, 65, 66, 67, 68, 69, 70, 71, 72, 73, 74, 75, 76, 77, 78, 79, 80, 81, 82, 83, 84, 85, 86, 87, 88, 89, 90, 91, 92, 93, 94, 95, 96, 97, 98, 99, 100], [9396, 9396, 9396, 9396, 9396, 9396, 9396, 9396, 9396, 9396, 9396, 9396, 9396, 9396, 9396, 9396, 9396, 9396, 9396, 9396, 9396, 9396, 9396, 9396, 9396, 9396, 9396, 9396, 9396, 9396, 9396, 9396, 9396, 9396, 9396, 9396, 9396, 9396, 9396, 9396, 9396, 9396, 9396, 9396, 9396, 9396, 9396, 9396, 9396, 9396, 9396, 9396, 9396, 9396, 9396, 9396, 9396, 9396, 9396, 9396, 9396, 9396, 9396, 9396, 9396, 9396, 9396, 9395, 9396, 9396, 9396, 9396, 9396, 9396, 9396, 9396, 9396, 9396, 9396, 9396, 9396, 9396, 9396, 9396, 9396, 9396, 9396, 9396, 9396, 9396, 9396, 9396, 9396, 9396, 9396, 9396, 9396, 9396, 9396, 9396]] 9396\n"
     ]
    }
   ],
   "source": [
    "print(a,l)"
   ]
  },
  {
   "cell_type": "code",
   "execution_count": 52,
   "metadata": {},
   "outputs": [
    {
     "data": {
      "image/png": "[encoded data removed]",
      "text/plain": [
       "<matplotlib.figure.Figure at 0x7f92271602b0>"
      ]
     },
     "metadata": {},
     "output_type": "display_data"
    }
   ],
   "source": [
    "a=red1.entrenar(train,100,test)\n",
    "b=[]\n",
    "l= len(xtest)\n",
    "for x in a[1]:\n",
    "    b.append((l-x)/l)\n",
    "pyplot.plot(a[0],b)\n",
    "pyplot.show()"
   ]
  },
  {
   "cell_type": "code",
   "execution_count": 53,
   "metadata": {},
   "outputs": [
    {
     "name": "stdout",
     "output_type": "stream",
     "text": [
      "[[1, 2, 3, 4, 5, 6, 7, 8, 9, 10, 11, 12, 13, 14, 15, 16, 17, 18, 19, 20, 21, 22, 23, 24, 25, 26, 27, 28, 29, 30, 31, 32, 33, 34, 35, 36, 37, 38, 39, 40, 41, 42, 43, 44, 45, 46, 47, 48, 49, 50, 51, 52, 53, 54, 55, 56, 57, 58, 59, 60, 61, 62, 63, 64, 65, 66, 67, 68, 69, 70, 71, 72, 73, 74, 75, 76, 77, 78, 79, 80, 81, 82, 83, 84, 85, 86, 87, 88, 89, 90, 91, 92, 93, 94, 95, 96, 97, 98, 99, 100], [9396, 9396, 9396, 9396, 9396, 9396, 9396, 9396, 9396, 9396, 9396, 9396, 9396, 9396, 9396, 9396, 9396, 9396, 9396, 9396, 9396, 9396, 9396, 9396, 9396, 9396, 9396, 9396, 9396, 9396, 9396, 9396, 9396, 9396, 9396, 9396, 9396, 9396, 9396, 9396, 9396, 9396, 9396, 9396, 9396, 9396, 9396, 9396, 9396, 9396, 9396, 9396, 9347, 9265, 8973, 9396, 9396, 9396, 9396, 9396, 9396, 9395, 9382, 9379, 9374, 9381, 9381, 9386, 9386, 9388, 9388, 9388, 9391, 9392, 9393, 9393, 9393, 9393, 9394, 9395, 9396, 9396, 9396, 9396, 9396, 9396, 9396, 9396, 9396, 9396, 9396, 9396, 9396, 9396, 9396, 9396, 9396, 9396, 9396, 9396]] 9396\n"
     ]
    }
   ],
   "source": [
    "print(a,l)"
   ]
  },
  {
   "cell_type": "code",
   "execution_count": 14,
   "metadata": {},
   "outputs": [
    {
     "data": {
      "image/png": "[encoded data removed]",
      "text/plain": [
       "<matplotlib.figure.Figure at 0x7f86c19a19b0>"
      ]
     },
     "metadata": {},
     "output_type": "display_data"
    }
   ],
   "source": [
    "fabri = Fabrica()\n",
    "fabri.getlr(0.3)\n",
    "capa2_1 = fabri.crearCapa(10,9) #Capa 6 pereceptrons 9 pesos cada quien \n",
    "capa2_2 = fabri.crearCapa(20,10) #Capa 3 perceptrones 6 pesos cada quien\n",
    "capa2_3 = fabri.crearCapa(4,20) #Capa 4 perceptrones 3 pesos \n",
    "red2= Red_Neuronal() \n",
    "red2.getcapinicial(capa2_1) #Capa incial.\n",
    "red2.getcapaintermedia(capa2_2) #Capa incial.\n",
    "red2.getcapfinal(capa2_3) #Capa final\n",
    "red2.enlazar()\n",
    "\n",
    "train=[xtrain,ytrain]\n",
    "test=[xtest,ytest]\n",
    "\n",
    "a=red2.entrenar(train,500,test)\n",
    "\n",
    "b=[]\n",
    "l= len(xtest)\n",
    "for x in a[1]:\n",
    "    b.append((l-x)/l)\n",
    "pyplot.plot(a[0],b)\n",
    "pyplot.show()"
   ]
  },
  {
   "cell_type": "code",
   "execution_count": 15,
   "metadata": {},
   "outputs": [
    {
     "name": "stdout",
     "output_type": "stream",
     "text": [
      "9328 9396\n"
     ]
    }
   ],
   "source": [
    "print(min(a[1]),l)"
   ]
  },
  {
   "cell_type": "code",
   "execution_count": 39,
   "metadata": {},
   "outputs": [
    {
     "data": {
      "image/png": "[encoded data removed]",
      "text/plain": [
       "<matplotlib.figure.Figure at 0x7f923c149ef0>"
      ]
     },
     "metadata": {},
     "output_type": "display_data"
    }
   ],
   "source": [
    "a=red2.entrenar(train,100,test)\n",
    "b=[]\n",
    "l= len(xtest)\n",
    "for x in a[1]:\n",
    "    b.append((l-x)/l)\n",
    "pyplot.plot(a[0],b)\n",
    "pyplot.show()"
   ]
  },
  {
   "cell_type": "code",
   "execution_count": 25,
   "metadata": {},
   "outputs": [
    {
     "name": "stdout",
     "output_type": "stream",
     "text": [
      "[[1, 2, 3, 4, 5, 6, 7, 8, 9, 10, 11, 12, 13, 14, 15, 16, 17, 18, 19, 20, 21, 22, 23, 24, 25, 26, 27, 28, 29, 30, 31, 32, 33, 34, 35, 36, 37, 38, 39, 40, 41, 42, 43, 44, 45, 46, 47, 48, 49, 50, 51, 52, 53, 54, 55, 56, 57, 58, 59, 60, 61, 62, 63, 64, 65, 66, 67, 68, 69, 70, 71, 72, 73, 74, 75, 76, 77, 78, 79, 80, 81, 82, 83, 84, 85, 86, 87, 88, 89, 90, 91, 92, 93, 94, 95, 96, 97, 98, 99, 100], [9396, 9396, 9396, 9396, 9396, 9396, 9396, 9396, 9396, 9396, 9396, 9396, 9396, 9396, 9396, 9396, 9396, 9396, 9396, 9396, 9396, 9396, 9396, 9396, 9396, 9396, 9396, 9396, 9396, 9396, 9396, 9396, 9396, 9396, 9396, 9396, 9396, 9396, 9396, 9396, 9396, 9396, 9396, 9396, 9396, 9396, 9396, 9396, 9396, 9396, 9396, 9396, 9396, 9396, 9396, 9396, 9396, 9396, 9396, 9396, 9396, 9396, 9396, 9396, 9396, 9396, 9396, 9396, 9396, 9396, 9396, 9396, 9396, 9396, 9396, 9396, 9396, 9396, 9396, 9396, 9396, 9396, 9396, 9396, 9396, 9396, 9396, 9396, 9396, 9396, 9396, 9396, 9396, 9396, 9396, 9396, 9396, 9396, 9396, 9396]] 9396\n"
     ]
    }
   ],
   "source": [
    "print(a,l)"
   ]
  },
  {
   "cell_type": "code",
   "execution_count": null,
   "metadata": {
    "collapsed": true
   },
   "outputs": [],
   "source": []
  }
 ],
 "metadata": {
  "kernelspec": {
   "display_name": "Python 3",
   "language": "python",
   "name": "python3"
  },
  "language_info": {
   "codemirror_mode": {
    "name": "ipython",
    "version": 3
   },
   "file_extension": ".py",
   "mimetype": "text/x-python",
   "name": "python",
   "nbconvert_exporter": "python",
   "pygments_lexer": "ipython3",
   "version": "3.6.1"
  }
 },
 "nbformat": 4,
 "nbformat_minor": 2
}
