{
 "cells": [
  {
   "cell_type": "code",
   "execution_count": 1,
   "metadata": {
    "collapsed": true
   },
   "outputs": [],
   "source": [
    "import numpy as np\n",
    "import math\n",
    "#\"\"\" Clase que representa la capa de un perceptron sigmoide\"\"\"\n",
    "class Perceptron: \n",
    "    def __init__(self):\n",
    "        self.pesos= [] # \"\"\"Arreglo donde se guardan los pesos\"\"\"\n",
    "        self.datos=[]  #\"\"\" Arreglo donde se guardan los inputs\"\"\"\n",
    "        self.b=0  #\"\"\"Este valor representa el bais\"\"\"\n",
    "        self.out=0 #\"\"\" Este valor represente el output del sigmoide\"\"\"\n",
    "        self.error=0 #\"\"\" El error \"\"\"\n",
    "        self.delta=0  #\"\"\" El delta\"\"\"\n",
    "        self.lr=0.1 #\"\"\" El learning rata\"\"\"\n",
    "        self.bout=0  # \"\"\"Este valor represente en binario el output, por si se necesita\"\"\"\n",
    "    \n",
    "   # \"\"\" Método para agregar el learning rate\"\"\"\n",
    "    def agregarlr(self,valor):\n",
    "        self.lr=valor\n",
    "    #\"\"\" Agregar pesos\"\"\"\n",
    "    def agregarpeso(self,peso):\n",
    "        self.pesos.append(peso)\n",
    "    #\"\"\" Agregar los inputs\"\"\"    \n",
    "    def agregardato(self,dato):\n",
    "        self.datos.append(dato)\n",
    "    #\"\"\" Agregar bais\"\"\"    \n",
    "    def agregarbais(self,bais):\n",
    "        self.b=bais\n",
    "     #\"\"\"Agregar erro, este se utiliza si este perectron está en la última capa \"\"\"\"\n",
    "      #   \"\"\"ya que aquí el erro es la resta del output con el output esperado \"\"\"   \n",
    "    def agregarerror(self,valor):\n",
    "        self.error=valor\n",
    "   # \"\"\" Calcular el output del sigmoide, ya debe estar ingresados lo datos y los pesos\"\"\"\n",
    "    def run(self):\n",
    "        ps=np.array(self.pesos)\n",
    "        dt=np.array(self.datos)\n",
    "        x= ps*dt\n",
    "        suma=x.sum()\n",
    "        exponente = -1*(suma+self.b)\n",
    "        denominador = 1 + math.exp(exponente)\n",
    "        self.out=1/denominador\n",
    "        if self.out>=0.5: #\"\"\"Criterio para calcular el output binario\"\"\"\n",
    "            self.bout=1\n",
    "        else:\n",
    "            self.bout=0\n",
    "    #\"\"\"Agregar datos\"\"\"\n",
    "    def agregardatos(self,dats):\n",
    "        self.datos=dats\n",
    "     #\"\"\"Vaciar datos\"\"\"   \n",
    "    def vaciardatos(self):\n",
    "        self.datos=[]\n",
    "        \n",
    "    #\"\"\"Calcular error, ingresando los delta de la capa siguiente\"\"\"\n",
    "    def calcularerror(self,deltasnextcapa):\n",
    "        ps=np.array(self.pesos)\n",
    "        delt=np.array(deltasnextcapa)\n",
    "        mult=ps*delt\n",
    "        self.error=mult.sum()\n",
    "    #\"\"\"Calcular de\"\"\"    \n",
    "    def calculardelta(self):\n",
    "        self.delta=self.error*(self.out*(1-self.out))\n",
    "        \n",
    "    def ajustarpesos(self):\n",
    "        nuevospesos=[]\n",
    "        x=0\n",
    "        for peso in self.pesos:\n",
    "            nuevospesos.append(peso+(self.lr*self.delta*self.datos[x]))\n",
    "            x=x+1\n",
    "        self.pesos=nuevospesos\n",
    "        self.b=self.b + self.lr*self.delta    "
   ]
  },
  {
   "cell_type": "code",
   "execution_count": 2,
   "metadata": {
    "collapsed": true
   },
   "outputs": [],
   "source": [
    "class Capa:\n",
    "    #\"\"\"Clase que representa una capa de red neuronal\"\"\"\n",
    "    def __init__(self):\n",
    "        self.perceptrones=[] #\"\"\"Arreglo con los pereceptrones\"\"\"\n",
    "        self.input=[] #\"\"\"Inputs que se le pasaran a  los pereceptrones \"\"\"\n",
    "        self.output=[] # \"\"\"Outputs que regresaran los perceptrones\"\"\"\n",
    "        self.deltas=[]  #\"\"\"Deltas de cada uno de los perceptrones \"\"\"\n",
    "        self.siguientecapa = None # \"\"\"Siguiente capa\"\"\"\n",
    "        self.anteriorcapa =None  # \"\"\"Capa anterior\"\"\"\n",
    "        self.boutput=[]\n",
    "    def getnextcapa(self, capa):\n",
    "        self.siguientecapa = capa\n",
    "    \n",
    "    def getpreviouscapa(self,capa):\n",
    "        self.anteriorcapa = capa\n",
    "   # \"\"\"Agregar inputs\"\"\"\n",
    "    def getinput(self,datos):\n",
    "        self.input=datos\n",
    "    # Agregar perceptron individual\n",
    "    def getperceptron(self, perceptron):\n",
    "        self.perceptrones.append(perceptron)\n",
    "    # Agregar perceptrones arreglo\n",
    "    \n",
    "    def getperceptrones(self, arreglo):\n",
    "        self.perceptrones=arreglo\n",
    "    \n",
    "   #\"\"\"Recorrido para calcular output \"\"\"\n",
    "    def Feeding(self):\n",
    "        self.output=[]\n",
    "        self.boutput=[]\n",
    "        for perc in self.perceptrones: #\"\"\"Cada perceptron recibe los datos y su respuestas son cargadas al outputs\"\"\"\n",
    "            perc.agregardatos(self.input)\n",
    "            perc.run()\n",
    "            self.output.append(perc.out)\n",
    "            self.boutput.append(perc.bout)\n",
    "        if self.siguientecapa != None: #\"\"\"Si no es la última capa, se pasá mi output como input de la siguiente capa\"\"\"\n",
    "            self.siguientecapa.getinput(self.output)\n",
    "            self.siguientecapa.Feeding()\n",
    "    \n",
    "    #\"\"\"Recorrido para ajustar pesos\"\"\"\n",
    "    #\"\"\"El argumento de esta función puede ser el expectoutout de la última capa, o los deltas si son otras \n",
    "     #  capas \"\"\"\n",
    "    def backpropagation(self, expectoutput):\n",
    "        self.deltas=[]\n",
    "        if self.siguientecapa == None: #\"\"\"Si es última capa\"\"\"\n",
    "            x=0\n",
    "            for perc in self.perceptrones:\n",
    "                perc.agregarerror(expectoutput[x]-perc.out)# \"\"\"Cada pereceptron recibe su error\"\"\"\n",
    "                perc.calculardelta()#\"\"\"Cada perceptron calcula su delta\"\"\"\n",
    "                self.deltas.append(perc.delta) #\"\"\"Se agregan a los delta de la capaa \"\"\"\n",
    "                perc.ajustarpesos()\n",
    "                x=x+1\n",
    "            self.anteriorcapa.backpropagation(self.deltas) # \"\"\"Se le pasa los deltas a la capa anterior\"\"\"\n",
    "        else:\n",
    "            if self.anteriorcapa == None: # \"\"\"Si es la primera capa, igual solo que no seguimos con la propagación\"\"\"\n",
    "                for perc in self.perceptrones:\n",
    "                    perc.calcularerror(expectoutput)\n",
    "                    perc.calculardelta()\n",
    "                    self.deltas.append(perc.delta)\n",
    "                    perc.ajustarpesos()\n",
    "            else:\n",
    "                for perc in self.perceptrones: #\"\"\"No es ni la primera ni la última\"\"\"\n",
    "                    perc.calcularerror(expectoutput)\n",
    "                    perc.calculardelta()\n",
    "                    self.deltas.append(perc.deltas)\n",
    "                    perc.ajustarpesos()\n",
    "                self.anteriorcapa.backpropagation(self.deltas)"
   ]
  },
  {
   "cell_type": "code",
   "execution_count": 3,
   "metadata": {
    "collapsed": true
   },
   "outputs": [],
   "source": [
    "import random\n",
    "class Fabrica:\n",
    "    def __init__(self):\n",
    "        self.lr=0.1 #learning range con el que se crearn los perceptrones\n",
    "        self.bais=-1 #bais con el que se crearan los peceptrones\n",
    "        \n",
    "    def getlr(self,valor):\n",
    "        self.lr=valor\n",
    "        \n",
    "    def getbais(self,valor):\n",
    "        self.bais=valor\n",
    "    #Método que crea un perecpetron con cantidad especifica de pesos   \n",
    "    def crearPerceptron(self,cantPesos):\n",
    "        per= Perceptron()\n",
    "        for x in range(cantPesos):\n",
    "            per.agregarpeso(random.uniform(-2,2))\n",
    "        per.agregarlr(self.lr)\n",
    "        per.agregarbais(self.bais)\n",
    "        return per\n",
    "    #Método que crea una capa con una cantidad especifica de perceptrones y pesos.\n",
    "    def crearCapa(self, cantPer, cantPesos):\n",
    "        cap= Capa()\n",
    "        for x in range(cantPer):\n",
    "            cap.getperceptron(self.crearPerceptron(cantPesos))\n",
    "        return cap    \n",
    "    \n",
    "    "
   ]
  },
  {
   "cell_type": "code",
   "execution_count": 67,
   "metadata": {
    "collapsed": true
   },
   "outputs": [],
   "source": [
    "class Red_Neuronal:\n",
    "    def __init__(self):\n",
    "        self.capinicial=None #Capa inicial \n",
    "        self.capintemedias=[] #Arreglo donde se guardaran las capas intemedias, deben ser ingresadas en orden.\n",
    "        self.capfinal=None\n",
    "    #Se agrega la capa incial a la red neuronal, se asume que esta tiene los perceptrones y pesos correctos.\n",
    "    def getcapinicial(self,capa):\n",
    "        self.capinicial=capa\n",
    "    #Agregar capa final.\n",
    "    def getcapfinal(self, capa):\n",
    "        self.capfinal= capa\n",
    "    #Agregar una capa intemedia, se debe agregar en orden\n",
    "    def getcapaintermedia(self, capa):\n",
    "        self.capintemedias.append(capa)\n",
    "    #Método para que cada capa reciba su capa anterior y su capa siguiente    \n",
    "    def enlazar(self):\n",
    "        if len(self.capintemedias)==0: #Si no hay capas intermedias\n",
    "            self.capinicial.getnextcapa(self.capfinal)   #Se enlazan la primera con la última\n",
    "            self.capfinal.getpreviouscapa(self.capinicial)\n",
    "        else:  #Si hay capas intemedias\n",
    "            x=0\n",
    "            self.capinicial.getnextcapa(self.capintemedias[x]) #Se enlaza la capa inicial, con la primera capa del arreglo\n",
    "            while x<(len(self.capintemedias)-1):\n",
    "                self.capintemedias[x].getnextcapa(self.capintemedias[x+1]) #Se enlaza cada capa, con su siguiente\n",
    "                x=x+1\n",
    "            x=len(self.capintemedias)-1\n",
    "            while x>0:\n",
    "                self.capintemedias[x].getpreviouscapa(self.capintemedias[x-1])#Se enlaza cada capa, con la anterior\n",
    "                x=x-1\n",
    "            x=len(self.capintemedias)-1\n",
    "            self.capfinal.getpreviouscapa(self.capintemedias[x]) #Se enlza la  útima capa del arrglo, con la capa final\n",
    "            self.capintemedias[x].getnextcapa(self.capfinal)\n",
    "    \n",
    "    def comparador(self,conjunto1,conjunto2):\n",
    "        x=1\n",
    "        i=0\n",
    "        for z in conjunto1:\n",
    "            if(z!=conjunto2[i]):\n",
    "                x=0\n",
    "                return x\n",
    "            i=i+1\n",
    "        return x\n",
    "    \n",
    "    #Método para entrenar, devuelve los errores\n",
    "    def entrenar(self,settrain,num, settest):\n",
    "        inputrain=settrain[0]\n",
    "        outputtrain=settrain[1]\n",
    "        inputtest=settest[0]\n",
    "        outputtest=settest[1]\n",
    "        intentos=[]\n",
    "        resultados=[]\n",
    "        \n",
    "        for x in range(num):\n",
    "            i=0\n",
    "            for tupla in inputrain:\n",
    "                self.capinicial.getinput(tupla)\n",
    "                self.capinicial.Feeding()\n",
    "                self.capfinal.backpropagation(outputtrain[i])\n",
    "                i=i+1\n",
    "            i=0\n",
    "            errores=0\n",
    "            for tupla in inputtest:\n",
    "                self.capinicial.getinput(tupla)\n",
    "                self.capinicial.Feeding()\n",
    "                if self.comparador(self.capfinal.boutput,outputtest[i])==0:\n",
    "                    errores=errores+1\n",
    "                i=i+1\n",
    "            resultados.append(errores)\n",
    "            intentos.append(x+1)\n",
    "        return [intentos,resultados]"
   ]
  },
  {
   "cell_type": "code",
   "execution_count": 97,
   "metadata": {},
   "outputs": [
    {
     "data": {
      "image/png": "[encoded data removed]",
      "text/plain": [
       "<matplotlib.figure.Figure at 0x7f6888e4d438>"
      ]
     },
     "metadata": {},
     "output_type": "display_data"
    }
   ],
   "source": [
    "from matplotlib import pyplot\n",
    "fabri = Fabrica()\n",
    "fabri.getbais(0.5)\n",
    "capa1 = fabri.crearCapa(10,2)\n",
    "capa2 = fabri.crearCapa(10,10)\n",
    "capa3 = fabri.crearCapa(1,10)\n",
    "\n",
    "red1= Red_Neuronal()\n",
    "red1.getcapinicial(capa1)\n",
    "red1.getcapaintermedia(capa2)\n",
    "red1.getcapfinal(capa3)\n",
    "red1.enlazar()\n",
    "\n",
    "entrada=[[1,1],[0,1],[1,0],[0,0]]\n",
    "salida = [[0],[1],[1],[0]]\n",
    "entre=[entrada,salida]\n",
    "\n",
    "a = red1.entrenar(entre,1000,entre)\n",
    "b=[]\n",
    "for x in a[1]:\n",
    "    b.append((4-x)/4)\n",
    "pyplot.plot(a[0],b)\n",
    "pyplot.show()"
   ]
  },
  {
   "cell_type": "code",
   "execution_count": 1,
   "metadata": {},
   "outputs": [
    {
     "name": "stdout",
     "output_type": "stream",
     "text": [
      "OCNTY        40057\n",
      "OCNTYPOP     40057\n",
      "BFACIL3      40057\n",
      "MAGER14      40057\n",
      "MAGER9       40057\n",
      "MRACEHISP    40057\n",
      "MAR          40057\n",
      "MEDUC        40057\n",
      "APGAR5       40057\n",
      "APGAR5R      40057\n",
      "SEX          40057\n",
      "dtype: int64\n"
     ]
    }
   ],
   "source": [
    " import pandas as pd\n",
    " df1=pd.read_csv(\"merge.csv\")\n",
    " cnt = df1.count()\n",
    " print (cnt)"
   ]
  },
  {
   "cell_type": "code",
   "execution_count": 2,
   "metadata": {},
   "outputs": [
    {
     "data": {
      "text/plain": [
       "8     14026\n",
       "9     10031\n",
       "10     9644\n",
       "15     5171\n",
       "99     1185\n",
       "Name: APGAR5, dtype: int64"
      ]
     },
     "execution_count": 2,
     "metadata": {},
     "output_type": "execute_result"
    }
   ],
   "source": [
    "df1['APGAR5'].value_counts()"
   ]
  },
  {
   "cell_type": "code",
   "execution_count": 3,
   "metadata": {},
   "outputs": [
    {
     "data": {
      "text/plain": [
       "0    21022\n",
       "1    19035\n",
       "Name: SEX, dtype: int64"
      ]
     },
     "execution_count": 3,
     "metadata": {},
     "output_type": "execute_result"
    }
   ],
   "source": [
    "new_map2={'M':0,'F':1} #Cambiamos sexo por un valor númerico \n",
    "df2= df1.copy()\n",
    "df2[\"SEX\"]=df2[\"SEX\"].map(new_map2)\n",
    "df2['SEX'].value_counts()"
   ]
  },
  {
   "cell_type": "code",
   "execution_count": 4,
   "metadata": {},
   "outputs": [
    {
     "data": {
      "text/plain": [
       "8     14026\n",
       "9     10031\n",
       "10     9644\n",
       "15     5171\n",
       "Name: APGAR5, dtype: int64"
      ]
     },
     "execution_count": 4,
     "metadata": {},
     "output_type": "execute_result"
    }
   ],
   "source": [
    "df3=df2[(df2['APGAR5'] != 99)]\n",
    "df3['APGAR5'].value_counts()"
   ]
  },
  {
   "cell_type": "code",
   "execution_count": 5,
   "metadata": {},
   "outputs": [
    {
     "name": "stdout",
     "output_type": "stream",
     "text": [
      "[127, 2, 1, 12, 7, 2, 1, 3, 0] [113, 3, 1, 8, 3, 2, 2, 5, 1]\n"
     ]
    }
   ],
   "source": [
    "from sklearn.model_selection import train_test_split\n",
    "X= df3.drop(labels=[\"APGAR5\",\"APGAR5R\"],axis=1)\n",
    "Y= df3.APGAR5\n",
    "\n",
    "X_train, X_test, y_train, y_test = train_test_split(X, Y, test_size=.33, random_state=37, stratify=Y)\n",
    "\n",
    "xtrain=[]\n",
    "xtest=[]\n",
    "for index, row in X_train.iterrows() :\n",
    "    tupla=[]\n",
    "    tupla.append(row['OCNTY'])\n",
    "    tupla.append(row['OCNTYPOP'])\n",
    "    tupla.append(row['BFACIL3'])\n",
    "    tupla.append(row['MAGER14'])\n",
    "    tupla.append(row['MAGER9'])\n",
    "    tupla.append(row['MRACEHISP'])\n",
    "    tupla.append(row['MAR'])\n",
    "    tupla.append(row['MEDUC'])\n",
    "    tupla.append(row['SEX'])\n",
    "    xtrain.append(tupla)\n",
    "    \n",
    "for index, row in X_test.iterrows() :\n",
    "    tupla=[]\n",
    "    tupla.append(row['OCNTY'])\n",
    "    tupla.append(row['OCNTYPOP'])\n",
    "    tupla.append(row['BFACIL3'])\n",
    "    tupla.append(row['MAGER14'])\n",
    "    tupla.append(row['MAGER9'])\n",
    "    tupla.append(row['MRACEHISP'])\n",
    "    tupla.append(row['MAR'])\n",
    "    tupla.append(row['MEDUC'])\n",
    "    tupla.append(row['SEX'])\n",
    "    xtest.append(tupla)\n",
    "    \n",
    "\n",
    "print(xtrain[100], xtest[100])"
   ]
  },
  {
   "cell_type": "code",
   "execution_count": 9,
   "metadata": {},
   "outputs": [
    {
     "name": "stdout",
     "output_type": "stream",
     "text": [
      "[10 15 15 ...,  8 10  8]\n"
     ]
    }
   ],
   "source": [
    "print(y_train.get_values())"
   ]
  },
  {
   "cell_type": "code",
   "execution_count": 14,
   "metadata": {},
   "outputs": [
    {
     "name": "stdout",
     "output_type": "stream",
     "text": [
      "12828 12828\n"
     ]
    }
   ],
   "source": [
    "yarreglo=y_train.get_values()\n",
    "ytrain=[]\n",
    "for x in yarreglo:\n",
    "    if x==8:\n",
    "        ytrain.append([1,0,0,0])\n",
    "    if x==9:\n",
    "        ytrain.append([0,1,0,0])\n",
    "    if x==10:\n",
    "        ytrain.append([0,0,1,0])\n",
    "    if x==15:\n",
    "        ytrain.append([0,0,0,1])\n",
    "\n",
    "yarreglo=y_test.get_values()\n",
    "ytest=[]\n",
    "for x in yarreglo:\n",
    "    if x==8:\n",
    "        ytest.append([1,0,0,0])\n",
    "    if x==9:\n",
    "        ytest.append([0,1,0,0])\n",
    "    if x==10:\n",
    "        ytest.append([0,0,1,0])\n",
    "    if x==15:\n",
    "        ytest.append([0,0,0,1])\n",
    "print(len(ytest),len(xtest)) "
   ]
  },
  {
   "cell_type": "code",
   "execution_count": null,
   "metadata": {
    "collapsed": true
   },
   "outputs": [],
   "source": []
  }
 ],
 "metadata": {
  "kernelspec": {
   "display_name": "Python 3",
   "language": "python",
   "name": "python3"
  },
  "language_info": {
   "codemirror_mode": {
    "name": "ipython",
    "version": 3
   },
   "file_extension": ".py",
   "mimetype": "text/x-python",
   "name": "python",
   "nbconvert_exporter": "python",
   "pygments_lexer": "ipython3",
   "version": "3.6.1"
  }
 },
 "nbformat": 4,
 "nbformat_minor": 2
}
